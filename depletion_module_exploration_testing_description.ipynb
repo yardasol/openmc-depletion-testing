{
 "cells": [
  {
   "cell_type": "code",
   "execution_count": 1,
   "id": "d5470349",
   "metadata": {},
   "outputs": [],
   "source": [
    "import openmc\n",
    "import math\n",
    "from copy import deepcopy\n",
    "import openmc.deplete as od"
   ]
  },
  {
   "cell_type": "markdown",
   "id": "87489dc2",
   "metadata": {},
   "source": [
    "## Depletion module exploration\n",
    "\n",
    "I will use this notebook to understand the functionality of OpenMC's ``deplete`` module towards the goal of coming up with a strategy to decouple the depletion functionality from OpenMCs transport solver."
   ]
  },
  {
   "cell_type": "markdown",
   "id": "4077b167",
   "metadata": {},
   "source": [
    "### 1. ``Integrator``\n",
    "The ``Integrator`` class is where the `integrate()` function that a user would call to run a depletion simulation lives. The `integrate()` function does several things:\n",
    "\n",
    "1. Gets the initial nuclide concentration (``with self.operator as conc:``)\n",
    "2. Gets the source rate (power or neutron flux), time step size, and step index the depletion calculation (``for i, (dt, source_rate) in enumerate(self):``)\n",
    "3. Solves the transport equation (``conc, res = self._get_bos_data_from_operator(i, source_rate, conc)``)\n",
    "4. Solves the bateman equations (``proc_time, conc_list, res_list = self(conc, res.rates, dt, source_rate, i)``)\n",
    "5. Saves the results in an HDF5 file.\n",
    "\n",
    "In the following cells, I will describe how each of these steps are done in a bit more detail."
   ]
  },
  {
   "cell_type": "markdown",
   "id": "21d4c6ec",
   "metadata": {},
   "source": [
    "#### 1a. Obtaining initial nuclide concentration\n",
    "\n",
    "The initial nuclide concentration is simply a pointer to the `operator` attribute of the `Integrator` object. The `operator` attribute is an instance of the `TransportOperator` class. How does this work? Let's investigate.\n",
    "\n",
    "First, we need to create an `openmc.model` object"
   ]
  },
  {
   "cell_type": "code",
   "execution_count": 2,
   "id": "93c04c42",
   "metadata": {},
   "outputs": [],
   "source": [
    "model = openmc.Model()\n",
    "\n",
    "fuel = openmc.Material(name=\"uo2\")\n",
    "fuel.add_element(\"U\", 1, percent_type=\"ao\", enrichment=4.25)\n",
    "fuel.add_element(\"O\", 2)\n",
    "fuel.set_density(\"g/cc\", 10.4)\n",
    "\n",
    "clad = openmc.Material(name=\"clad\")\n",
    "clad.add_element(\"Zr\", 1)\n",
    "clad.set_density(\"g/cc\", 6)\n",
    "\n",
    "water = openmc.Material(name=\"water\")\n",
    "water.add_element(\"O\", 1)\n",
    "water.add_element(\"H\", 2)\n",
    "water.set_density(\"g/cc\", 1.0)\n",
    "water.add_s_alpha_beta(\"c_H_in_H2O\")\n",
    "materials = openmc.Materials([fuel, clad, water])\n",
    "\n",
    "radii = [0.42, 0.45]\n",
    "pin_surfaces = [openmc.ZCylinder(r=r) for r in radii]\n",
    "pin_univ = openmc.model.pin(pin_surfaces, materials)\n",
    "bound_box = openmc.rectangular_prism(1.24, 1.24, boundary_type=\"reflective\")\n",
    "root_cell = openmc.Cell(fill=pin_univ, region=bound_box)\n",
    "geometry = openmc.Geometry([root_cell])\n",
    "\n",
    "settings = openmc.Settings()\n",
    "settings.particles = 1000\n",
    "settings.inactive = 10\n",
    "settings.batches = 50\n",
    "\n",
    "fuel.volume = math.pi * radii[0] ** 2\n",
    "\n",
    "\n",
    "model.settings = settings\n",
    "model.materials = materials\n",
    "model.geometry = geometry"
   ]
  },
  {
   "cell_type": "markdown",
   "id": "d9676d1c",
   "metadata": {},
   "source": [
    "Next, we create an `Operator` using this model as well as a test chain file (more on this later)"
   ]
  },
  {
   "cell_type": "code",
   "execution_count": 3,
   "id": "a74c2450",
   "metadata": {},
   "outputs": [],
   "source": [
    "operator = openmc.deplete.Operator(model, \"../openmc/tests/chain_simple.xml\")"
   ]
  },
  {
   "cell_type": "markdown",
   "id": "b161e157",
   "metadata": {},
   "source": [
    "We also will need to specify a source rate, as well as a number of depletion time steps"
   ]
  },
  {
   "cell_type": "code",
   "execution_count": 4,
   "id": "4d2875e6",
   "metadata": {},
   "outputs": [],
   "source": [
    "power = 174\n",
    "time_steps = [30] * 6"
   ]
  },
  {
   "cell_type": "markdown",
   "id": "d49dbb47",
   "metadata": {},
   "source": [
    "Now we form the `Integrator` object:"
   ]
  },
  {
   "cell_type": "code",
   "execution_count": 5,
   "id": "2800f72d",
   "metadata": {},
   "outputs": [],
   "source": [
    "integrator = od.PredictorIntegrator(operator, time_steps, power, timestep_units='d')"
   ]
  },
  {
   "cell_type": "markdown",
   "id": "3995acce",
   "metadata": {},
   "source": [
    "Now let's check out the use of `self.operator`. The `conc` pointer gets passed to the `_get_bos_data_from_operator` function in `abc.py` in the `bos_conc` parameter:\n",
    "```python\n",
    "    def _get_bos_data_from_operator(self, step_index, source_rate, bos_conc):\n",
    "        \"\"\"Get beginning of step concentrations, reaction rates from Operator\n",
    "        \"\"\"\n",
    "        x = deepcopy(bos_conc)\n",
    "        res = self.operator(x, source_rate)\n",
    "        self.operator.write_bos_data(step_index + self._i_res)\n",
    "        return x, res\n",
    "```"
   ]
  },
  {
   "cell_type": "code",
   "execution_count": 6,
   "id": "259284e5",
   "metadata": {},
   "outputs": [
    {
     "ename": "TypeError",
     "evalue": "'Operator' object is not iterable",
     "output_type": "error",
     "traceback": [
      "\u001b[0;31m---------------------------------------------------------------------------\u001b[0m",
      "\u001b[0;31mTypeError\u001b[0m                                 Traceback (most recent call last)",
      "Input \u001b[0;32mIn [6]\u001b[0m, in \u001b[0;36m<module>\u001b[0;34m\u001b[0m\n\u001b[1;32m      1\u001b[0m x \u001b[38;5;241m=\u001b[39m deepcopy(integrator\u001b[38;5;241m.\u001b[39moperator)\n\u001b[0;32m----> 2\u001b[0m \u001b[43mintegrator\u001b[49m\u001b[38;5;241;43m.\u001b[39;49m\u001b[43moperator\u001b[49m\u001b[43m(\u001b[49m\u001b[43mx\u001b[49m\u001b[43m,\u001b[49m\u001b[43m \u001b[49m\u001b[43mpower\u001b[49m\u001b[43m)\u001b[49m\n",
      "File \u001b[0;32m~/projects/openmc/openmc/deplete/operator.py:369\u001b[0m, in \u001b[0;36mOperator.__call__\u001b[0;34m(self, vec, source_rate)\u001b[0m\n\u001b[1;32m    366\u001b[0m openmc\u001b[38;5;241m.\u001b[39mlib\u001b[38;5;241m.\u001b[39mreset()\n\u001b[1;32m    368\u001b[0m \u001b[38;5;66;03m# Update the number densities regardless of the source rate\u001b[39;00m\n\u001b[0;32m--> 369\u001b[0m \u001b[38;5;28;43mself\u001b[39;49m\u001b[38;5;241;43m.\u001b[39;49m\u001b[43mnumber\u001b[49m\u001b[38;5;241;43m.\u001b[39;49m\u001b[43mset_density\u001b[49m\u001b[43m(\u001b[49m\u001b[43mvec\u001b[49m\u001b[43m)\u001b[49m\n\u001b[1;32m    370\u001b[0m \u001b[38;5;28mself\u001b[39m\u001b[38;5;241m.\u001b[39m_update_materials()\n\u001b[1;32m    372\u001b[0m \u001b[38;5;66;03m# If the source rate is zero, return zero reaction rates without running\u001b[39;00m\n\u001b[1;32m    373\u001b[0m \u001b[38;5;66;03m# a transport solve\u001b[39;00m\n",
      "File \u001b[0;32m~/projects/openmc/openmc/deplete/atom_number.py:238\u001b[0m, in \u001b[0;36mAtomNumber.set_density\u001b[0;34m(self, total_density)\u001b[0m\n\u001b[1;32m    226\u001b[0m \u001b[38;5;28;01mdef\u001b[39;00m \u001b[38;5;21mset_density\u001b[39m(\u001b[38;5;28mself\u001b[39m, total_density):\n\u001b[1;32m    227\u001b[0m     \u001b[38;5;124;03m\"\"\"Sets density.\u001b[39;00m\n\u001b[1;32m    228\u001b[0m \n\u001b[1;32m    229\u001b[0m \u001b[38;5;124;03m    Sets the density in the exact same order as total_density_list outputs,\u001b[39;00m\n\u001b[0;32m   (...)\u001b[0m\n\u001b[1;32m    236\u001b[0m \n\u001b[1;32m    237\u001b[0m \u001b[38;5;124;03m    \"\"\"\u001b[39;00m\n\u001b[0;32m--> 238\u001b[0m     \u001b[38;5;28;01mfor\u001b[39;00m i, density_slice \u001b[38;5;129;01min\u001b[39;00m \u001b[38;5;28;43menumerate\u001b[39;49m\u001b[43m(\u001b[49m\u001b[43mtotal_density\u001b[49m\u001b[43m)\u001b[49m:\n\u001b[1;32m    239\u001b[0m         \u001b[38;5;28mself\u001b[39m\u001b[38;5;241m.\u001b[39mset_mat_slice(i, density_slice)\n",
      "\u001b[0;31mTypeError\u001b[0m: 'Operator' object is not iterable"
     ]
    }
   ],
   "source": [
    "x = deepcopy(integrator.operator)\n",
    "integrator.operator(x, power)"
   ]
  },
  {
   "cell_type": "markdown",
   "id": "4c1d446a",
   "metadata": {},
   "source": [
    "Hmm, looks like we are getting an error. Looking at the code of `TransportOperator.__call__`, this is the correct behavior as `conc` is an `Operator` object, and not an array of floats. Let's try doing some debugging to figure out how we are getting an array of floats."
   ]
  },
  {
   "cell_type": "code",
   "execution_count": 7,
   "id": "fe63182f",
   "metadata": {},
   "outputs": [
    {
     "name": "stdout",
     "output_type": "stream",
     "text": [
      "--Return--\n",
      "None\n",
      "> \u001b[0;32m/tmp/ipykernel_7985/2721897642.py\u001b[0m(2)\u001b[0;36m<module>\u001b[0;34m()\u001b[0m\n",
      "\u001b[0;32m      1 \u001b[0;31m\u001b[0;32mimport\u001b[0m \u001b[0mpdb\u001b[0m\u001b[0;34m\u001b[0m\u001b[0;34m\u001b[0m\u001b[0m\n",
      "\u001b[0m\u001b[0;32m----> 2 \u001b[0;31m\u001b[0mpdb\u001b[0m\u001b[0;34m.\u001b[0m\u001b[0mset_trace\u001b[0m\u001b[0;34m(\u001b[0m\u001b[0;34m)\u001b[0m\u001b[0;34m\u001b[0m\u001b[0;34m\u001b[0m\u001b[0m\n",
      "\u001b[0m\u001b[0;32m      3 \u001b[0;31m\u001b[0mintegrator\u001b[0m\u001b[0;34m.\u001b[0m\u001b[0mintegrate\u001b[0m\u001b[0;34m(\u001b[0m\u001b[0;34m)\u001b[0m\u001b[0;34m\u001b[0m\u001b[0;34m\u001b[0m\u001b[0m\n",
      "\u001b[0m\u001b[0;32m      4 \u001b[0;31m\u001b[0;31m## b /home/ooblack/projects/openmc/openmc/deplete/abc.py:870\u001b[0m\u001b[0;34m\u001b[0m\u001b[0;34m\u001b[0m\u001b[0m\n",
      "\u001b[0m\u001b[0;32m      5 \u001b[0;31m\u001b[0;31m## c\u001b[0m\u001b[0;34m\u001b[0m\u001b[0;34m\u001b[0m\u001b[0m\n",
      "\u001b[0m\n",
      "ipdb> b /home/ooblack/projects/openmc/openmc/deplete/abc.py:870\n",
      "Breakpoint 1 at /home/ooblack/projects/openmc/openmc/deplete/abc.py:870\n",
      "ipdb> c\n",
      "\u001b[0;31m    [... skipped 1 hidden frame]\u001b[0m\n",
      "\n",
      "\u001b[0;31m    [... skipped 1 hidden frame]\u001b[0m\n",
      "\n",
      "\u001b[0;31m    [... skipped 1 hidden frame]\u001b[0m\n",
      "\n",
      "\u001b[0;31m    [... skipped 1 hidden frame]\u001b[0m\n",
      "\n",
      "                                %%%%%%%%%%%%%%%\n",
      "                           %%%%%%%%%%%%%%%%%%%%%%%%\n",
      "                        %%%%%%%%%%%%%%%%%%%%%%%%%%%%%%\n",
      "                      %%%%%%%%%%%%%%%%%%%%%%%%%%%%%%%%%%\n",
      "                    %%%%%%%%%%%%%%%%%%%%%%%%%%%%%%%%%%%%%%\n",
      "                   %%%%%%%%%%%%%%%%%%%%%%%%%%%%%%%%%%%%%%%%\n",
      "                                    %%%%%%%%%%%%%%%%%%%%%%%%\n",
      "                                     %%%%%%%%%%%%%%%%%%%%%%%%\n",
      "                 ###############      %%%%%%%%%%%%%%%%%%%%%%%%\n",
      "                ##################     %%%%%%%%%%%%%%%%%%%%%%%\n",
      "                ###################     %%%%%%%%%%%%%%%%%%%%%%%\n",
      "                ####################     %%%%%%%%%%%%%%%%%%%%%%\n",
      "                #####################     %%%%%%%%%%%%%%%%%%%%%\n",
      "                ######################     %%%%%%%%%%%%%%%%%%%%\n",
      "                #######################     %%%%%%%%%%%%%%%%%%\n",
      "                 #######################     %%%%%%%%%%%%%%%%%\n",
      "                 ######################     %%%%%%%%%%%%%%%%%\n",
      "                  ####################     %%%%%%%%%%%%%%%%%\n",
      "                    #################     %%%%%%%%%%%%%%%%%\n",
      "                     ###############     %%%%%%%%%%%%%%%%\n",
      "                       ############     %%%%%%%%%%%%%%%\n",
      "                          ########     %%%%%%%%%%%%%%\n",
      "                                      %%%%%%%%%%%\n",
      "\n",
      "                 | The OpenMC Monte Carlo Code\n",
      "       Copyright | 2011-2022 MIT, UChicago Argonne LLC, and contributors\n",
      "         License | https://docs.openmc.org/en/latest/license.html\n",
      "         Version | 0.13.1-dev\n",
      "        Git SHA1 | 5c0a4893bd69bb213876868a61560a0004be8fed\n",
      "       Date/Time | 2022-06-13 10:50:18\n",
      "  OpenMP Threads | 4\n",
      "\n",
      " Reading settings XML file...\n",
      " Reading cross sections XML file...\n",
      " Reading materials XML file...\n",
      " Reading geometry XML file...\n",
      " Reading U234 from /home/ooblack/nndc_hdf5/U234.h5\n",
      " Reading U235 from /home/ooblack/nndc_hdf5/U235.h5\n",
      " Reading U238 from /home/ooblack/nndc_hdf5/U238.h5\n",
      " Reading O16 from /home/ooblack/nndc_hdf5/O16.h5\n",
      " Reading O17 from /home/ooblack/nndc_hdf5/O17.h5\n",
      " Reading U236 from /home/ooblack/nndc_hdf5/U236.h5\n",
      " Reading Zr90 from /home/ooblack/nndc_hdf5/Zr90.h5\n",
      " Reading Zr91 from /home/ooblack/nndc_hdf5/Zr91.h5\n",
      " Reading Zr92 from /home/ooblack/nndc_hdf5/Zr92.h5\n",
      " Reading Zr94 from /home/ooblack/nndc_hdf5/Zr94.h5\n",
      " Reading Zr96 from /home/ooblack/nndc_hdf5/Zr96.h5\n",
      " Reading H1 from /home/ooblack/nndc_hdf5/H1.h5\n",
      " Reading H2 from /home/ooblack/nndc_hdf5/H2.h5\n",
      " Reading c_H_in_H2O from /home/ooblack/nndc_hdf5/c_H_in_H2O.h5\n",
      " Minimum neutron data temperature: 294 K\n",
      " Maximum neutron data temperature: 294 K\n",
      " Preparing distributed cell instances...\n",
      " Reading plot XML file...\n",
      " Writing summary.h5 file...\n",
      "> \u001b[0;32m/home/ooblack/projects/openmc/openmc/deplete/abc.py\u001b[0m(870)\u001b[0;36mintegrate\u001b[0;34m()\u001b[0m\n",
      "\u001b[0;32m    868 \u001b[0;31m        \"\"\"\n",
      "\u001b[0m\u001b[0;32m    869 \u001b[0;31m        \u001b[0;32mwith\u001b[0m \u001b[0mself\u001b[0m\u001b[0;34m.\u001b[0m\u001b[0moperator\u001b[0m \u001b[0;32mas\u001b[0m \u001b[0mconc\u001b[0m\u001b[0;34m:\u001b[0m\u001b[0;34m\u001b[0m\u001b[0;34m\u001b[0m\u001b[0m\n",
      "\u001b[0m\u001b[1;31m1\u001b[0;32m-> 870 \u001b[0;31m            \u001b[0mt\u001b[0m\u001b[0;34m,\u001b[0m \u001b[0mself\u001b[0m\u001b[0;34m.\u001b[0m\u001b[0m_i_res\u001b[0m \u001b[0;34m=\u001b[0m \u001b[0mself\u001b[0m\u001b[0;34m.\u001b[0m\u001b[0m_get_start_data\u001b[0m\u001b[0;34m(\u001b[0m\u001b[0;34m)\u001b[0m\u001b[0;34m\u001b[0m\u001b[0;34m\u001b[0m\u001b[0m\n",
      "\u001b[0m\u001b[0;32m    871 \u001b[0;31m\u001b[0;34m\u001b[0m\u001b[0m\n",
      "\u001b[0m\u001b[0;32m    872 \u001b[0;31m            \u001b[0;32mfor\u001b[0m \u001b[0mi\u001b[0m\u001b[0;34m,\u001b[0m \u001b[0;34m(\u001b[0m\u001b[0mdt\u001b[0m\u001b[0;34m,\u001b[0m \u001b[0msource_rate\u001b[0m\u001b[0;34m)\u001b[0m \u001b[0;32min\u001b[0m \u001b[0menumerate\u001b[0m\u001b[0;34m(\u001b[0m\u001b[0mself\u001b[0m\u001b[0;34m)\u001b[0m\u001b[0;34m:\u001b[0m\u001b[0;34m\u001b[0m\u001b[0;34m\u001b[0m\u001b[0m\n",
      "\u001b[0m\n",
      "ipdb> p conc\n",
      "[array([5.54176944e+02, 5.54176944e+02, 5.54176944e+02, 5.54176944e+02,\n",
      "       5.54176944e+02, 5.54176944e+02, 4.94459466e+18, 5.53201699e+20,\n",
      "       1.22985089e+22])]\n",
      "ipdb> p self.operator.initial_condition()\n",
      "[array([5.54176944e+02, 5.54176944e+02, 5.54176944e+02, 5.54176944e+02,\n",
      "       5.54176944e+02, 5.54176944e+02, 4.94459466e+18, 5.53201699e+20,\n",
      "       1.22985089e+22])]\n",
      "ipdb> 1\n",
      "1\n",
      "ipdb> q\n"
     ]
    },
    {
     "ename": "BdbQuit",
     "evalue": "",
     "output_type": "error",
     "traceback": [
      "\u001b[0;31m---------------------------------------------------------------------------\u001b[0m",
      "\u001b[0;31mBdbQuit\u001b[0m                                   Traceback (most recent call last)",
      "Input \u001b[0;32mIn [7]\u001b[0m, in \u001b[0;36m<module>\u001b[0;34m\u001b[0m\n\u001b[1;32m      1\u001b[0m \u001b[38;5;28;01mimport\u001b[39;00m \u001b[38;5;21;01mpdb\u001b[39;00m\n\u001b[1;32m      2\u001b[0m pdb\u001b[38;5;241m.\u001b[39mset_trace()\n\u001b[0;32m----> 3\u001b[0m \u001b[43mintegrator\u001b[49m\u001b[38;5;241;43m.\u001b[39;49m\u001b[43mintegrate\u001b[49m\u001b[43m(\u001b[49m\u001b[43m)\u001b[49m\n",
      "File \u001b[0;32m~/projects/openmc/openmc/deplete/abc.py:870\u001b[0m, in \u001b[0;36mIntegrator.integrate\u001b[0;34m(self, final_step, output)\u001b[0m\n\u001b[1;32m    855\u001b[0m \u001b[38;5;124;03m\"\"\"Perform the entire depletion process across all steps\u001b[39;00m\n\u001b[1;32m    856\u001b[0m \n\u001b[1;32m    857\u001b[0m \u001b[38;5;124;03mParameters\u001b[39;00m\n\u001b[0;32m   (...)\u001b[0m\n\u001b[1;32m    867\u001b[0m \u001b[38;5;124;03m    .. versionadded:: 0.13.1\u001b[39;00m\n\u001b[1;32m    868\u001b[0m \u001b[38;5;124;03m\"\"\"\u001b[39;00m\n\u001b[1;32m    869\u001b[0m \u001b[38;5;28;01mwith\u001b[39;00m \u001b[38;5;28mself\u001b[39m\u001b[38;5;241m.\u001b[39moperator \u001b[38;5;28;01mas\u001b[39;00m conc:\n\u001b[0;32m--> 870\u001b[0m     t, \u001b[38;5;28mself\u001b[39m\u001b[38;5;241m.\u001b[39m_i_res \u001b[38;5;241m=\u001b[39m \u001b[38;5;28;43mself\u001b[39;49m\u001b[38;5;241m.\u001b[39m_get_start_data()\n\u001b[1;32m    872\u001b[0m     \u001b[38;5;28;01mfor\u001b[39;00m i, (dt, source_rate) \u001b[38;5;129;01min\u001b[39;00m \u001b[38;5;28menumerate\u001b[39m(\u001b[38;5;28mself\u001b[39m):\n\u001b[1;32m    873\u001b[0m         \u001b[38;5;28;01mif\u001b[39;00m output:\n",
      "File \u001b[0;32m~/projects/openmc/openmc/deplete/abc.py:870\u001b[0m, in \u001b[0;36mIntegrator.integrate\u001b[0;34m(self, final_step, output)\u001b[0m\n\u001b[1;32m    855\u001b[0m \u001b[38;5;124;03m\"\"\"Perform the entire depletion process across all steps\u001b[39;00m\n\u001b[1;32m    856\u001b[0m \n\u001b[1;32m    857\u001b[0m \u001b[38;5;124;03mParameters\u001b[39;00m\n\u001b[0;32m   (...)\u001b[0m\n\u001b[1;32m    867\u001b[0m \u001b[38;5;124;03m    .. versionadded:: 0.13.1\u001b[39;00m\n\u001b[1;32m    868\u001b[0m \u001b[38;5;124;03m\"\"\"\u001b[39;00m\n\u001b[1;32m    869\u001b[0m \u001b[38;5;28;01mwith\u001b[39;00m \u001b[38;5;28mself\u001b[39m\u001b[38;5;241m.\u001b[39moperator \u001b[38;5;28;01mas\u001b[39;00m conc:\n\u001b[0;32m--> 870\u001b[0m     t, \u001b[38;5;28mself\u001b[39m\u001b[38;5;241m.\u001b[39m_i_res \u001b[38;5;241m=\u001b[39m \u001b[38;5;28;43mself\u001b[39;49m\u001b[38;5;241m.\u001b[39m_get_start_data()\n\u001b[1;32m    872\u001b[0m     \u001b[38;5;28;01mfor\u001b[39;00m i, (dt, source_rate) \u001b[38;5;129;01min\u001b[39;00m \u001b[38;5;28menumerate\u001b[39m(\u001b[38;5;28mself\u001b[39m):\n\u001b[1;32m    873\u001b[0m         \u001b[38;5;28;01mif\u001b[39;00m output:\n",
      "File \u001b[0;32m~/miniconda3/envs/openmc-env/lib/python3.10/bdb.py:90\u001b[0m, in \u001b[0;36mBdb.trace_dispatch\u001b[0;34m(self, frame, event, arg)\u001b[0m\n\u001b[1;32m     88\u001b[0m     \u001b[38;5;28;01mreturn\u001b[39;00m \u001b[38;5;66;03m# None\u001b[39;00m\n\u001b[1;32m     89\u001b[0m \u001b[38;5;28;01mif\u001b[39;00m event \u001b[38;5;241m==\u001b[39m \u001b[38;5;124m'\u001b[39m\u001b[38;5;124mline\u001b[39m\u001b[38;5;124m'\u001b[39m:\n\u001b[0;32m---> 90\u001b[0m     \u001b[38;5;28;01mreturn\u001b[39;00m \u001b[38;5;28;43mself\u001b[39;49m\u001b[38;5;241;43m.\u001b[39;49m\u001b[43mdispatch_line\u001b[49m\u001b[43m(\u001b[49m\u001b[43mframe\u001b[49m\u001b[43m)\u001b[49m\n\u001b[1;32m     91\u001b[0m \u001b[38;5;28;01mif\u001b[39;00m event \u001b[38;5;241m==\u001b[39m \u001b[38;5;124m'\u001b[39m\u001b[38;5;124mcall\u001b[39m\u001b[38;5;124m'\u001b[39m:\n\u001b[1;32m     92\u001b[0m     \u001b[38;5;28;01mreturn\u001b[39;00m \u001b[38;5;28mself\u001b[39m\u001b[38;5;241m.\u001b[39mdispatch_call(frame, arg)\n",
      "File \u001b[0;32m~/miniconda3/envs/openmc-env/lib/python3.10/bdb.py:115\u001b[0m, in \u001b[0;36mBdb.dispatch_line\u001b[0;34m(self, frame)\u001b[0m\n\u001b[1;32m    113\u001b[0m \u001b[38;5;28;01mif\u001b[39;00m \u001b[38;5;28mself\u001b[39m\u001b[38;5;241m.\u001b[39mstop_here(frame) \u001b[38;5;129;01mor\u001b[39;00m \u001b[38;5;28mself\u001b[39m\u001b[38;5;241m.\u001b[39mbreak_here(frame):\n\u001b[1;32m    114\u001b[0m     \u001b[38;5;28mself\u001b[39m\u001b[38;5;241m.\u001b[39muser_line(frame)\n\u001b[0;32m--> 115\u001b[0m     \u001b[38;5;28;01mif\u001b[39;00m \u001b[38;5;28mself\u001b[39m\u001b[38;5;241m.\u001b[39mquitting: \u001b[38;5;28;01mraise\u001b[39;00m BdbQuit\n\u001b[1;32m    116\u001b[0m \u001b[38;5;28;01mreturn\u001b[39;00m \u001b[38;5;28mself\u001b[39m\u001b[38;5;241m.\u001b[39mtrace_dispatch\n",
      "\u001b[0;31mBdbQuit\u001b[0m: "
     ]
    }
   ],
   "source": [
    "import pdb\n",
    "pdb.set_trace()\n",
    "integrator.integrate()\n",
    "## b /home/ooblack/projects/openmc/openmc/deplete/abc.py:870\n",
    "## p conc\n",
    "## p self.operator.initial_condition()\n",
    "## q"
   ]
  },
  {
   "cell_type": "markdown",
   "id": "b3825514",
   "metadata": {},
   "source": [
    "Inspecting line 143 in `abc.py`, it looks like that the line `with self.operator as conc` executes the `__enter__` special function, and returns the inital nuclide concentration instead of an `Operator` object as one would assume by reading the code of of the `integrate()` function."
   ]
  },
  {
   "cell_type": "markdown",
   "id": "a1229f97",
   "metadata": {},
   "source": [
    "#### 1b. Source rate, timestep size, and step index\n",
    "Similar to 1a, the `Integrator` class has an `__iter__` special function that returns the timesteps and source rates when passed as an argument to `enumerate()`."
   ]
  },
  {
   "cell_type": "markdown",
   "id": "0b417f38",
   "metadata": {},
   "source": [
    "#### 1c. Solving the transport equation.\n",
    "The second code line of the `_get_bos_data_from_operator` function is\n",
    "```python\n",
    "res = self.operator(x, source_rate)\n",
    "```\n",
    "\n",
    "This instruction executes the `TransportOperator` class's `__call__` special function, which runs a transport simulation. See `Operator.__call__()` in `operator.py` for the specific implementation using the OpenMC transport solver.\n",
    "\n",
    "The `_get_bos_data_from...` functions return the inital nuclide concentration for that depletion step (`conc`) as well as the results of the transport simulation (`res`). `res` is an instance of the `OperatorResult` named tuple.\n",
    "\n",
    "__This means that in theory, we could build up another `TransportOperator` subclass that has an appropriate method for running another transport solver, obtaining results therefrom, and storing them in an `OperatorResult` tuple, and we would not need to change any other component.__"
   ]
  },
  {
   "cell_type": "markdown",
   "id": "0ea4c3e4",
   "metadata": {},
   "source": [
    "#### 1d. Solving the Bateman equations\n",
    "\n",
    "The step to solve the bateman equations is a single line:\n",
    "\n",
    "```python\n",
    "                proc_time, conc_list, res_list = self(conc, res.rates, dt, source_rate, i)\n",
    "```\n",
    "This instruction executes `Integrator.__call__()` special function, which is implemented within specific `Integrator` subclasses.\n",
    "\n",
    "__My preliminary conclusion is that all of the necessary class stucture to separate out the depletion capabilties of OpenMC from its transport solver are in `abc.py`, as long as we can also find a way detangle the import statements (`openmc.lib` specifically).__"
   ]
  },
  {
   "cell_type": "markdown",
   "id": "6895156e",
   "metadata": {},
   "source": [
    "### 2. OpenMC API import statements\n",
    "_Quick note: moving `TalliedFissionYieldHelper` to `helpers.py` would allow us to remove the `from openmc.lib import` statement in `abc.py`_"
   ]
  },
  {
   "cell_type": "markdown",
   "id": "42e8cfa9",
   "metadata": {},
   "source": [
    "```Summary:\n",
    "    Much of the openmc API used in the deplete module comes in the form of check_value functions.\n",
    "    Critical imports\n",
    "        openmc.mpi\n",
    "    Code specific imports\n",
    "        openmc.checkvalue\n",
    "        \n",
    "\n",
    "abc.py\n",
    "    from openmc.lib import MaterialFilter, Tally\n",
    "        MaterialFilter used 3 times\n",
    "            line 438 (docstring), line 521 (docstring), line 535 (object)\n",
    "        Tally used once\n",
    "            line 532 (object)\n",
    "    from openmc.checkvalue import check_type, check_greater_than\n",
    "        check_type used 8 times\n",
    "        check_greater_than used 4 times\n",
    "        used in @setter decorators and __init__ functions\n",
    "    from openmc.mpi import comm\n",
    "        not explicitly used in code\n",
    "\n",
    "atom_number.py\n",
    "    from openmc import Material\n",
    "        used 6 times\n",
    "            line 65 (isinstance argument), the rest are in docstrings\n",
    "\n",
    "chain.py\n",
    "    from openmc.checkvalue import check_type, check_greater_than\n",
    "        check_type used 5 times\n",
    "            once in Chain.from_xml\n",
    "            once in Chain.fission_yields\n",
    "            once in Chain.validate\n",
    "            twice in Chain.reduce\n",
    "        check_greater_than used twice\n",
    "            once in Chain.validate\n",
    "            once in Chain.reduce\n",
    "    from openmc.data import gnd_name, zam, DataLibrary\n",
    "        gnd_name used 4 times\n",
    "            3 times in replace_missing_fpy\n",
    "            once in Chain.set_branch_ratios\n",
    "        zam used 5 times\n",
    "            once in replace_missing_fpy\n",
    "            once in Chain.set_branching_ratios\n",
    "            called explicitly (i.e. openmc.data.zam) in replace_missing, Chain.from_endf, and Chain.reduce\n",
    "        DataLibrary used once\n",
    "            line 251\n",
    "    from openmc.exceptions import DataError\n",
    "        DataError used once\n",
    "            line 256\n",
    "\n",
    "cram.py\n",
    "    from openmc.checkvalue import check_type, check_length\n",
    "        check_type used 3 times\n",
    "        check_length used once\n",
    "        all in IPFCramSolver.__init__\n",
    "\n",
    "helpers.py\n",
    "    from openmc.mpi import comm\n",
    "        comm used 5 times\n",
    "            4 in EnerergyNormalizationHelper.factor\n",
    "            once in EnergyScoreHelper.reset\n",
    "    from openmc.checkvalue import check_type, check_greater_than\n",
    "        check_type used 4 times, all in __init__ functions\n",
    "        ditto for check_greater_than\n",
    "    from openmc.data import JOULE_PER_EV, REACTION_MT\n",
    "        JOULE_PER_EV used once in EnergyNormalizationHelper.factor\n",
    "        REACTION_MT used once in FluxCollapseHelper.generate_tallies\n",
    "    from openmc.lib import (\n",
    "        Tally, MaterialFilter, EnergyFilter, EnergyFunctionFilter)\n",
    "        Tally used 4 times\n",
    "        MaterialFilter used 3 times\n",
    "        EnergyFilter used 3 times\n",
    "        EnergyFunctionFilter used once\n",
    "    import openmc.lib\n",
    "        openmc.lib functions used:\n",
    "            settings\n",
    "            nuclides\n",
    "\n",
    "operator.py\n",
    "    import openmc\n",
    "        openmc.Geometry used line 215\n",
    "        openmc.Materials used lines 244, 264\n",
    "        openmc.reset_auto_ids() used line 269, 380\n",
    "    from openmc.checkvalue import check_value\n",
    "        check_value used twice in Operator.__init__\n",
    "    from openmc.data import DataLibrary\n",
    "        DataLibrary used once in _get_nuclides_with_data\n",
    "    from openmc.exceptions import DataError\n",
    "        DataError used once in _find_cross_sections\n",
    "    import openmc.lib\n",
    "        fucntions:\n",
    "            reset()\n",
    "            run()\n",
    "            reset_timers()\n",
    "            statepoint_write()\n",
    "            is_initialized\n",
    "            init()\n",
    "            materials on lines 591, 642\n",
    "            finalize()\n",
    "            keff()\n",
    "\n",
    "    from openmc.mpi import comm\n",
    "        used 17 times\n",
    "\n",
    "nuclide.py\n",
    "    from openmc.checkvalue import check_type\n",
    "        used once in line 149\n",
    "\n",
    "results.py\n",
    "    import openmc\n",
    "        openmc.Material on line 89\n",
    "        openmc.Materials on line 513\n",
    "    from openmc.mpi import comm, MPI\n",
    "        comm used 10 times\n",
    "        MPI used once on line 498 in call to MPI.SUM\n",
    "\n",
    "\n",
    "results_list.py\n",
    "    import openmc.checkvalue as cv\n",
    "        used 9 times\n",
    "            check_value 4\n",
    "            check_type 3\n",
    "            check_iterable_type 1\n",
    "    from openmc.data.library import DataLibrary\n",
    "        used twice in ResultsList.export_to_materials\n",
    "    from openmc.material import Material, Materials\n",
    "        Material used as argument to isinstance()\n",
    "        Materials used twice\n",
    "            both ResultsList.export_to_materials\n",
    "                once is a syntax i haven't seen before in python:  def export_to_materials(self, burnup_index, nuc_with_data=None) -> Materials:\n",
    "    from openmc.exceptions import DataError, InvalidArgumentError\n",
    "        DataError used once in ResultsList.export_to_materials\n",
    "        InvalidArgumentError not explicitly used\n",
    "```"
   ]
  },
  {
   "cell_type": "markdown",
   "id": "08ac42bb",
   "metadata": {},
   "source": [
    "### 3. Solving the Bateman equation"
   ]
  },
  {
   "cell_type": "markdown",
   "id": "c61c7ae8",
   "metadata": {},
   "source": [
    "Recall that the step to solve the bateman equations from the `Integrator` class is a single line:\n",
    "\n",
    "```python\n",
    "                proc_time, conc_list, res_list = self(conc, res.rates, dt, source_rate, i)\n",
    "```\n",
    "\n",
    "However, there is much that goes on under the hood to get the output values. Let's spend some time digging into details relevant to decoupling the "
   ]
  },
  {
   "cell_type": "markdown",
   "id": "321a9a5f",
   "metadata": {},
   "source": [
    "The `__call__` method of the `Integrator` class is an abstract method. It is explcitly implemented in `Integrator` subclasses located in the `integrators.py` file.\n",
    "\n",
    "Every instance of the `__call__` function calls the `_timed_deplete` function in `Integrator`, which in turn, calls the `deplete` function from the `pool.py` file.\n",
    "\n",
    "The different integrator classes have different approaches to doing the time integration.\n",
    "\n",
    "1. `PredictorIntegrator` is a simple first order predictor algorithm.\n",
    "\n",
    "2. `CECMIntegrator` is a 2-step algoorithm with a correction to the predictor step.\n",
    "\n",
    "3. ...\n",
    "\n",
    "The multi-step algorithms typcially make additonal `TransportOperator.__call__` calls. __This means that if we want all of the depletion algorithms to be available, we must make use of the `TransportOperator` class somehow in our transport solver independent version of the `deplete` module.__\n",
    "\n"
   ]
  },
  {
   "cell_type": "markdown",
   "id": "c579dab9",
   "metadata": {},
   "source": [
    "If we are to enable a simple user-defined neutron flux so we can solve the Bateman Equation without doing transport solves, we must create machinery that do the following:\n",
    "\n",
    "__1. An instance of the `TransportOperator` class that does not do transport solves, and instead uses a user-defined neutron flux/power array to get reaction rates and `k`. We may also want to look into non-geometric version that also accepts an array of materials.__\n",
    "\n",
    "This may be the simplest way to get all the rest of the machinery to work together. This also has the added benefit of not needing to rely on the `openmc` C executable. All one would need to do would be to install the Python API.\n",
    "\n",
    "__If we want to enable use of other transport solvers with the `OpenMC` deplete operators, we should write a guide on how one would go about writing a `TransportOperator` subclass for an arbitrary transport code. Special attention should be given to helping users write code for in-memory coupling (assuming their transport solver supports it). I do not think it makes sense for us to try to write a `TransportOperator` subclass for each potential transport code out there.__"
   ]
  },
  {
   "cell_type": "markdown",
   "id": "11be3005",
   "metadata": {},
   "source": [
    "### 4. List of additional considerations and features"
   ]
  },
  {
   "cell_type": "markdown",
   "id": "707a6ff2",
   "metadata": {},
   "source": [
    "The following is a list of features and details to consider than may be related to and build on top of this design exercise:\n",
    "\n",
    "1. Machinery to store depletion matrices in a library; the idea is, for a specific reactor design, run a depletion simulation and then store these matrices in the library. Then, if we every want to do a depletion simulation on that reactor again, we could load the matrices from the library instead of recalculating them.\n",
    "\n",
    "2. Decoupling the `openmc.Material` and `openmc.Material` classes and allowing for more code agnostic material handling (e.g. for use in things like ARMI, etc). An alternative to this is a way to convert external material formats to OpenMC material formats _in memory_ (several projects exist that do this but via the filesystem)."
   ]
  },
  {
   "cell_type": "code",
   "execution_count": null,
   "id": "966e3cec",
   "metadata": {},
   "outputs": [],
   "source": []
  }
 ],
 "metadata": {
  "kernelspec": {
   "display_name": "Python [conda env:openmc-env] *",
   "language": "python",
   "name": "conda-env-openmc-env-py"
  },
  "language_info": {
   "codemirror_mode": {
    "name": "ipython",
    "version": 3
   },
   "file_extension": ".py",
   "mimetype": "text/x-python",
   "name": "python",
   "nbconvert_exporter": "python",
   "pygments_lexer": "ipython3",
   "version": "3.10.2"
  }
 },
 "nbformat": 4,
 "nbformat_minor": 5
}
