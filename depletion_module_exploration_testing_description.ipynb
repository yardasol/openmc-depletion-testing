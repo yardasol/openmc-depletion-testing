{
 "cells": [
  {
   "cell_type": "code",
   "execution_count": 1,
   "id": "d5470349",
   "metadata": {},
   "outputs": [],
   "source": [
    "import openmc\n",
    "import math\n",
    "from copy import deepcopy\n",
    "import openmc.deplete as od"
   ]
  },
  {
   "cell_type": "markdown",
   "id": "87489dc2",
   "metadata": {},
   "source": [
    "## Depletion module testing\n",
    "\n",
    "I will use this notebook to understand the functionality of OpenMC's ``deplete`` module"
   ]
  },
  {
   "cell_type": "markdown",
   "id": "4077b167",
   "metadata": {},
   "source": [
    "### 1. ``Integrator``\n",
    "The ``Integrator`` class is where the `integrate()` function that a user would call to run a depletion simulation lives. The `integrate()` function does several things:\n",
    "\n",
    "1. Gets the initial nuclide concentration (``with self.operator as conc:``)\n",
    "2. Gets the source rate (power or neutron flux), time step size, and step index the depletion calculation (``for i, (dt, source_rate) in enumerate(self):``)\n",
    "3. Solves the transport equation (``conc, res = self._get_bos_data_from_operator(i, source_rate, conc)``)\n",
    "4. Solves the bateman equations (``proc_time, conc_list, res_list = self(conc, res.rates, dt, source_rate, i)``)\n",
    "5. Saves the results in an HDF5 file.\n",
    "\n",
    "In the following cells, I will describe how each of these steps are done in detail."
   ]
  },
  {
   "cell_type": "markdown",
   "id": "21d4c6ec",
   "metadata": {},
   "source": [
    "#### 1a. Obtaining initial nuclide concentration\n",
    "\n",
    "The initial nuclide concentration is simply a pointer to the `operator` attribute of the `Integrator` object. The `operator` attribute is an instance of the `TransportOperator` class. How does this work? Let's investigate.\n",
    "\n",
    "First, we need to create an `openmc.model` object"
   ]
  },
  {
   "cell_type": "code",
   "execution_count": 2,
   "id": "93c04c42",
   "metadata": {},
   "outputs": [],
   "source": [
    "model = openmc.Model()\n",
    "\n",
    "fuel = openmc.Material(name=\"uo2\")\n",
    "fuel.add_element(\"U\", 1, percent_type=\"ao\", enrichment=4.25)\n",
    "fuel.add_element(\"O\", 2)\n",
    "fuel.set_density(\"g/cc\", 10.4)\n",
    "\n",
    "clad = openmc.Material(name=\"clad\")\n",
    "clad.add_element(\"Zr\", 1)\n",
    "clad.set_density(\"g/cc\", 6)\n",
    "\n",
    "water = openmc.Material(name=\"water\")\n",
    "water.add_element(\"O\", 1)\n",
    "water.add_element(\"H\", 2)\n",
    "water.set_density(\"g/cc\", 1.0)\n",
    "water.add_s_alpha_beta(\"c_H_in_H2O\")\n",
    "materials = openmc.Materials([fuel, clad, water])\n",
    "\n",
    "radii = [0.42, 0.45]\n",
    "pin_surfaces = [openmc.ZCylinder(r=r) for r in radii]\n",
    "pin_univ = openmc.model.pin(pin_surfaces, materials)\n",
    "bound_box = openmc.rectangular_prism(1.24, 1.24, boundary_type=\"reflective\")\n",
    "root_cell = openmc.Cell(fill=pin_univ, region=bound_box)\n",
    "geometry = openmc.Geometry([root_cell])\n",
    "\n",
    "settings = openmc.Settings()\n",
    "settings.particles = 1000\n",
    "settings.inactive = 10\n",
    "settings.batches = 50\n",
    "\n",
    "fuel.volume = math.pi * radii[0] ** 2\n",
    "\n",
    "\n",
    "model.settings = settings\n",
    "model.materials = materials\n",
    "model.geometry = geometry"
   ]
  },
  {
   "cell_type": "markdown",
   "id": "d9676d1c",
   "metadata": {},
   "source": [
    "Next, we create an `Operator` using this model as well as a test chain file (more on this later)"
   ]
  },
  {
   "cell_type": "code",
   "execution_count": 3,
   "id": "a74c2450",
   "metadata": {},
   "outputs": [],
   "source": [
    "operator = openmc.deplete.Operator(model, \"../openmc/tests/chain_simple.xml\")"
   ]
  },
  {
   "cell_type": "markdown",
   "id": "b161e157",
   "metadata": {},
   "source": [
    "We also will need to specify a source rate, as well as a number of depletion time steps"
   ]
  },
  {
   "cell_type": "code",
   "execution_count": 4,
   "id": "4d2875e6",
   "metadata": {},
   "outputs": [],
   "source": [
    "power = 174\n",
    "time_steps = [30] * 6"
   ]
  },
  {
   "cell_type": "markdown",
   "id": "d49dbb47",
   "metadata": {},
   "source": [
    "Now we form the `Integrator` object:"
   ]
  },
  {
   "cell_type": "code",
   "execution_count": 5,
   "id": "2800f72d",
   "metadata": {},
   "outputs": [],
   "source": [
    "integrator = od.PredictorIntegrator(operator, time_steps, power, timestep_units='d')"
   ]
  },
  {
   "cell_type": "markdown",
   "id": "3995acce",
   "metadata": {},
   "source": [
    "Now let's check out the use of `self.operator`. The `conc` pointer gets passed to the `_get_bos_data_from_operator` function in `abc.py`:\n",
    "```python\n",
    "    def _get_bos_data_from_operator(self, step_index, source_rate, bos_conc):\n",
    "        \"\"\"Get beginning of step concentrations, reaction rates from Operator\n",
    "        \"\"\"\n",
    "        x = deepcopy(bos_conc)\n",
    "        res = self.operator(x, source_rate)\n",
    "        self.operator.write_bos_data(step_index + self._i_res)\n",
    "        return x, res\n",
    "```"
   ]
  },
  {
   "cell_type": "code",
   "execution_count": 6,
   "id": "259284e5",
   "metadata": {},
   "outputs": [
    {
     "ename": "TypeError",
     "evalue": "'Operator' object is not iterable",
     "output_type": "error",
     "traceback": [
      "\u001b[0;31m---------------------------------------------------------------------------\u001b[0m",
      "\u001b[0;31mTypeError\u001b[0m                                 Traceback (most recent call last)",
      "Input \u001b[0;32mIn [6]\u001b[0m, in \u001b[0;36m<module>\u001b[0;34m\u001b[0m\n\u001b[1;32m      1\u001b[0m x \u001b[38;5;241m=\u001b[39m deepcopy(integrator\u001b[38;5;241m.\u001b[39moperator)\n\u001b[0;32m----> 2\u001b[0m \u001b[43mintegrator\u001b[49m\u001b[38;5;241;43m.\u001b[39;49m\u001b[43moperator\u001b[49m\u001b[43m(\u001b[49m\u001b[43mx\u001b[49m\u001b[43m,\u001b[49m\u001b[43m \u001b[49m\u001b[43mpower\u001b[49m\u001b[43m)\u001b[49m\n",
      "File \u001b[0;32m~/projects/openmc/openmc/deplete/operator.py:369\u001b[0m, in \u001b[0;36mOperator.__call__\u001b[0;34m(self, vec, source_rate)\u001b[0m\n\u001b[1;32m    366\u001b[0m openmc\u001b[38;5;241m.\u001b[39mlib\u001b[38;5;241m.\u001b[39mreset()\n\u001b[1;32m    368\u001b[0m \u001b[38;5;66;03m# Update the number densities regardless of the source rate\u001b[39;00m\n\u001b[0;32m--> 369\u001b[0m \u001b[38;5;28;43mself\u001b[39;49m\u001b[38;5;241;43m.\u001b[39;49m\u001b[43mnumber\u001b[49m\u001b[38;5;241;43m.\u001b[39;49m\u001b[43mset_density\u001b[49m\u001b[43m(\u001b[49m\u001b[43mvec\u001b[49m\u001b[43m)\u001b[49m\n\u001b[1;32m    370\u001b[0m \u001b[38;5;28mself\u001b[39m\u001b[38;5;241m.\u001b[39m_update_materials()\n\u001b[1;32m    372\u001b[0m \u001b[38;5;66;03m# If the source rate is zero, return zero reaction rates without running\u001b[39;00m\n\u001b[1;32m    373\u001b[0m \u001b[38;5;66;03m# a transport solve\u001b[39;00m\n",
      "File \u001b[0;32m~/projects/openmc/openmc/deplete/atom_number.py:238\u001b[0m, in \u001b[0;36mAtomNumber.set_density\u001b[0;34m(self, total_density)\u001b[0m\n\u001b[1;32m    226\u001b[0m \u001b[38;5;28;01mdef\u001b[39;00m \u001b[38;5;21mset_density\u001b[39m(\u001b[38;5;28mself\u001b[39m, total_density):\n\u001b[1;32m    227\u001b[0m     \u001b[38;5;124;03m\"\"\"Sets density.\u001b[39;00m\n\u001b[1;32m    228\u001b[0m \n\u001b[1;32m    229\u001b[0m \u001b[38;5;124;03m    Sets the density in the exact same order as total_density_list outputs,\u001b[39;00m\n\u001b[0;32m   (...)\u001b[0m\n\u001b[1;32m    236\u001b[0m \n\u001b[1;32m    237\u001b[0m \u001b[38;5;124;03m    \"\"\"\u001b[39;00m\n\u001b[0;32m--> 238\u001b[0m     \u001b[38;5;28;01mfor\u001b[39;00m i, density_slice \u001b[38;5;129;01min\u001b[39;00m \u001b[38;5;28;43menumerate\u001b[39;49m\u001b[43m(\u001b[49m\u001b[43mtotal_density\u001b[49m\u001b[43m)\u001b[49m:\n\u001b[1;32m    239\u001b[0m         \u001b[38;5;28mself\u001b[39m\u001b[38;5;241m.\u001b[39mset_mat_slice(i, density_slice)\n",
      "\u001b[0;31mTypeError\u001b[0m: 'Operator' object is not iterable"
     ]
    }
   ],
   "source": [
    "x = deepcopy(integrator.operator)\n",
    "integrator.operator(x, power)"
   ]
  },
  {
   "cell_type": "markdown",
   "id": "4c1d446a",
   "metadata": {},
   "source": [
    "Hmm, looks like we are getting an error. Looking at the code, it seems like there should be an error, as `conc` is an `Operator` object, and not an array of floats. Let's try doing some debugging."
   ]
  },
  {
   "cell_type": "code",
   "execution_count": null,
   "id": "fe63182f",
   "metadata": {},
   "outputs": [
    {
     "name": "stdout",
     "output_type": "stream",
     "text": [
      "--Return--\n",
      "None\n",
      "> \u001b[0;32m/tmp/ipykernel_42640/3412417994.py\u001b[0m(2)\u001b[0;36m<module>\u001b[0;34m()\u001b[0m\n",
      "\u001b[0;32m      1 \u001b[0;31m\u001b[0;32mimport\u001b[0m \u001b[0mpdb\u001b[0m\u001b[0;34m\u001b[0m\u001b[0;34m\u001b[0m\u001b[0m\n",
      "\u001b[0m\u001b[0;32m----> 2 \u001b[0;31m\u001b[0mpdb\u001b[0m\u001b[0;34m.\u001b[0m\u001b[0mset_trace\u001b[0m\u001b[0;34m(\u001b[0m\u001b[0;34m)\u001b[0m\u001b[0;34m\u001b[0m\u001b[0;34m\u001b[0m\u001b[0m\n",
      "\u001b[0m\u001b[0;32m      3 \u001b[0;31m\u001b[0mintegrator\u001b[0m\u001b[0;34m.\u001b[0m\u001b[0mintegrate\u001b[0m\u001b[0;34m(\u001b[0m\u001b[0;34m)\u001b[0m\u001b[0;34m\u001b[0m\u001b[0;34m\u001b[0m\u001b[0m\n",
      "\u001b[0m\u001b[0;32m      4 \u001b[0;31m\u001b[0;31m## b ../openmc/openmc/deplete/abc.py:833\u001b[0m\u001b[0;34m\u001b[0m\u001b[0;34m\u001b[0m\u001b[0m\n",
      "\u001b[0m\u001b[0;32m      5 \u001b[0;31m\u001b[0;31m## c\u001b[0m\u001b[0;34m\u001b[0m\u001b[0;34m\u001b[0m\u001b[0m\n",
      "\u001b[0m\n",
      "ipdb> b ../openmc/openmc/deplete/abc.py:833\n",
      "Breakpoint 3 at /home/ooblack/projects/openmc/openmc/deplete/abc.py:833\n",
      "ipdb> c\n",
      "\u001b[0;31m    [... skipped 1 hidden frame]\u001b[0m\n",
      "\n",
      "\u001b[0;31m    [... skipped 1 hidden frame]\u001b[0m\n",
      "\n",
      "\u001b[0;31m    [... skipped 1 hidden frame]\u001b[0m\n",
      "\n",
      "\u001b[0;31m    [... skipped 1 hidden frame]\u001b[0m\n",
      "\n",
      "                                %%%%%%%%%%%%%%%\n",
      "                           %%%%%%%%%%%%%%%%%%%%%%%%\n",
      "                        %%%%%%%%%%%%%%%%%%%%%%%%%%%%%%\n",
      "                      %%%%%%%%%%%%%%%%%%%%%%%%%%%%%%%%%%\n",
      "                    %%%%%%%%%%%%%%%%%%%%%%%%%%%%%%%%%%%%%%\n",
      "                   %%%%%%%%%%%%%%%%%%%%%%%%%%%%%%%%%%%%%%%%\n",
      "                                    %%%%%%%%%%%%%%%%%%%%%%%%\n",
      "                                     %%%%%%%%%%%%%%%%%%%%%%%%\n",
      "                 ###############      %%%%%%%%%%%%%%%%%%%%%%%%\n",
      "                ##################     %%%%%%%%%%%%%%%%%%%%%%%\n",
      "                ###################     %%%%%%%%%%%%%%%%%%%%%%%\n",
      "                ####################     %%%%%%%%%%%%%%%%%%%%%%\n",
      "                #####################     %%%%%%%%%%%%%%%%%%%%%\n",
      "                ######################     %%%%%%%%%%%%%%%%%%%%\n",
      "                #######################     %%%%%%%%%%%%%%%%%%\n",
      "                 #######################     %%%%%%%%%%%%%%%%%\n",
      "                 ######################     %%%%%%%%%%%%%%%%%\n",
      "                  ####################     %%%%%%%%%%%%%%%%%\n",
      "                    #################     %%%%%%%%%%%%%%%%%\n",
      "                     ###############     %%%%%%%%%%%%%%%%\n",
      "                       ############     %%%%%%%%%%%%%%%\n",
      "                          ########     %%%%%%%%%%%%%%\n",
      "                                      %%%%%%%%%%%\n",
      "\n",
      "                 | The OpenMC Monte Carlo Code\n",
      "       Copyright | 2011-2022 MIT, UChicago Argonne LLC, and contributors\n",
      "         License | https://docs.openmc.org/en/latest/license.html\n",
      "         Version | 0.13.1-dev\n",
      "        Git SHA1 | 5c0a4893bd69bb213876868a61560a0004be8fed\n",
      "       Date/Time | 2022-06-08 12:31:53\n",
      "  OpenMP Threads | 4\n",
      "\n",
      " Reading settings XML file...\n",
      " Reading cross sections XML file...\n",
      " Reading materials XML file...\n",
      " Reading geometry XML file...\n",
      " Reading U234 from /home/ooblack/nndc_hdf5/U234.h5\n",
      " Reading U235 from /home/ooblack/nndc_hdf5/U235.h5\n",
      " Reading U238 from /home/ooblack/nndc_hdf5/U238.h5\n",
      " Reading O16 from /home/ooblack/nndc_hdf5/O16.h5\n",
      " Reading O17 from /home/ooblack/nndc_hdf5/O17.h5\n",
      " Reading U236 from /home/ooblack/nndc_hdf5/U236.h5\n",
      " Reading Zr90 from /home/ooblack/nndc_hdf5/Zr90.h5\n",
      " Reading Zr91 from /home/ooblack/nndc_hdf5/Zr91.h5\n",
      " Reading Zr92 from /home/ooblack/nndc_hdf5/Zr92.h5\n",
      " Reading Zr94 from /home/ooblack/nndc_hdf5/Zr94.h5\n",
      " Reading Zr96 from /home/ooblack/nndc_hdf5/Zr96.h5\n",
      " Reading H1 from /home/ooblack/nndc_hdf5/H1.h5\n",
      " Reading H2 from /home/ooblack/nndc_hdf5/H2.h5\n",
      " Reading c_H_in_H2O from /home/ooblack/nndc_hdf5/c_H_in_H2O.h5\n",
      " Minimum neutron data temperature: 0 K\n",
      " Maximum neutron data temperature: 1.7976931348623157e+308 K\n",
      " Preparing distributed cell instances...\n",
      " Reading plot XML file...\n",
      " Writing summary.h5 file...\n",
      "> \u001b[0;32m/home/ooblack/projects/openmc/openmc/deplete/abc.py\u001b[0m(870)\u001b[0;36mintegrate\u001b[0;34m()\u001b[0m\n",
      "\u001b[0;32m    868 \u001b[0;31m        \"\"\"\n",
      "\u001b[0m\u001b[0;32m    869 \u001b[0;31m        \u001b[0;32mwith\u001b[0m \u001b[0mself\u001b[0m\u001b[0;34m.\u001b[0m\u001b[0moperator\u001b[0m \u001b[0;32mas\u001b[0m \u001b[0mconc\u001b[0m\u001b[0;34m:\u001b[0m\u001b[0;34m\u001b[0m\u001b[0;34m\u001b[0m\u001b[0m\n",
      "\u001b[0m\u001b[1;31m1\u001b[0;32m-> 870 \u001b[0;31m            \u001b[0mt\u001b[0m\u001b[0;34m,\u001b[0m \u001b[0mself\u001b[0m\u001b[0;34m.\u001b[0m\u001b[0m_i_res\u001b[0m \u001b[0;34m=\u001b[0m \u001b[0mself\u001b[0m\u001b[0;34m.\u001b[0m\u001b[0m_get_start_data\u001b[0m\u001b[0;34m(\u001b[0m\u001b[0;34m)\u001b[0m\u001b[0;34m\u001b[0m\u001b[0;34m\u001b[0m\u001b[0m\n",
      "\u001b[0m\u001b[0;32m    871 \u001b[0;31m\u001b[0;34m\u001b[0m\u001b[0m\n",
      "\u001b[0m\u001b[0;32m    872 \u001b[0;31m            \u001b[0;32mfor\u001b[0m \u001b[0mi\u001b[0m\u001b[0;34m,\u001b[0m \u001b[0;34m(\u001b[0m\u001b[0mdt\u001b[0m\u001b[0;34m,\u001b[0m \u001b[0msource_rate\u001b[0m\u001b[0;34m)\u001b[0m \u001b[0;32min\u001b[0m \u001b[0menumerate\u001b[0m\u001b[0;34m(\u001b[0m\u001b[0mself\u001b[0m\u001b[0;34m)\u001b[0m\u001b[0;34m:\u001b[0m\u001b[0;34m\u001b[0m\u001b[0;34m\u001b[0m\u001b[0m\n",
      "\u001b[0m\n",
      "ipdb> c\n",
      "[openmc.deplete] t=0.0 s, dt=2592000 s, source=174\n",
      "> \u001b[0;32m/home/ooblack/projects/openmc/openmc/deplete/abc.py\u001b[0m(832)\u001b[0;36m_get_bos_data_from_operator\u001b[0;34m()\u001b[0m\n",
      "\u001b[0;32m    830 \u001b[0;31m        \"\"\"\n",
      "\u001b[0m\u001b[0;32m    831 \u001b[0;31m        \u001b[0mx\u001b[0m \u001b[0;34m=\u001b[0m \u001b[0mdeepcopy\u001b[0m\u001b[0;34m(\u001b[0m\u001b[0mbos_conc\u001b[0m\u001b[0;34m)\u001b[0m\u001b[0;34m\u001b[0m\u001b[0;34m\u001b[0m\u001b[0m\n",
      "\u001b[0m\u001b[1;31m2\u001b[0;32m-> 832 \u001b[0;31m        \u001b[0mres\u001b[0m \u001b[0;34m=\u001b[0m \u001b[0mself\u001b[0m\u001b[0;34m.\u001b[0m\u001b[0moperator\u001b[0m\u001b[0;34m(\u001b[0m\u001b[0mx\u001b[0m\u001b[0;34m,\u001b[0m \u001b[0msource_rate\u001b[0m\u001b[0;34m)\u001b[0m\u001b[0;34m\u001b[0m\u001b[0;34m\u001b[0m\u001b[0m\n",
      "\u001b[0m\u001b[1;31m3\u001b[0;32m   833 \u001b[0;31m        \u001b[0mself\u001b[0m\u001b[0;34m.\u001b[0m\u001b[0moperator\u001b[0m\u001b[0;34m.\u001b[0m\u001b[0mwrite_bos_data\u001b[0m\u001b[0;34m(\u001b[0m\u001b[0mstep_index\u001b[0m \u001b[0;34m+\u001b[0m \u001b[0mself\u001b[0m\u001b[0;34m.\u001b[0m\u001b[0m_i_res\u001b[0m\u001b[0;34m)\u001b[0m\u001b[0;34m\u001b[0m\u001b[0;34m\u001b[0m\u001b[0m\n",
      "\u001b[0m\u001b[0;32m    834 \u001b[0;31m        \u001b[0;32mreturn\u001b[0m \u001b[0mx\u001b[0m\u001b[0;34m,\u001b[0m \u001b[0mres\u001b[0m\u001b[0;34m\u001b[0m\u001b[0;34m\u001b[0m\u001b[0m\n",
      "\u001b[0m\n",
      "ipdb> c\n",
      " Reading I135 from /home/ooblack/nndc_hdf5/I135.h5\n",
      " Reading Xe135 from /home/ooblack/nndc_hdf5/Xe135.h5\n",
      " Reading Xe136 from /home/ooblack/nndc_hdf5/Xe136.h5\n",
      " Reading Cs135 from /home/ooblack/nndc_hdf5/Cs135.h5\n",
      " Reading Gd157 from /home/ooblack/nndc_hdf5/Gd157.h5\n",
      " Reading Gd156 from /home/ooblack/nndc_hdf5/Gd156.h5\n",
      " Maximum neutron transport energy: 20000000 eV for U235\n",
      " Initializing source particles...\n",
      "\n",
      " ====================>     K EIGENVALUE SIMULATION     <====================\n",
      "\n",
      "  Bat./Gen.      k            Average k\n",
      "  =========   ========   ====================\n",
      "        1/1    1.49721\n",
      "        2/1    1.49226\n",
      "        3/1    1.44838\n",
      "        4/1    1.47163\n",
      "        5/1    1.41429\n",
      "        6/1    1.42100\n",
      "        7/1    1.43656\n",
      "        8/1    1.41211\n",
      "        9/1    1.45570\n",
      "       10/1    1.33919\n",
      "       11/1    1.47822\n",
      "       12/1    1.47425    1.47624 +/- 0.00198\n",
      "       13/1    1.39919    1.45056 +/- 0.02571\n",
      "       14/1    1.35785    1.42738 +/- 0.02946\n",
      "       15/1    1.38972    1.41985 +/- 0.02403\n",
      "       16/1    1.47812    1.42956 +/- 0.02189\n",
      "       17/1    1.50905    1.44092 +/- 0.02171\n",
      "       18/1    1.48299    1.44618 +/- 0.01952\n",
      "       19/1    1.49089    1.45114 +/- 0.01792\n",
      "       20/1    1.50543    1.45657 +/- 0.01692\n",
      "       21/1    1.41183    1.45251 +/- 0.01584\n",
      "       22/1    1.49487    1.45604 +/- 0.01488\n",
      "       23/1    1.45853    1.45623 +/- 0.01369\n",
      "       24/1    1.45628    1.45623 +/- 0.01268\n",
      "       25/1    1.37824    1.45103 +/- 0.01290\n",
      "       26/1    1.40298    1.44803 +/- 0.01243\n",
      "       27/1    1.48608    1.45027 +/- 0.01189\n",
      "       28/1    1.46773    1.45124 +/- 0.01125\n",
      "       29/1    1.46127    1.45177 +/- 0.01066\n",
      "       30/1    1.38587    1.44847 +/- 0.01063\n",
      "       31/1    1.42115    1.44717 +/- 0.01020\n",
      "       32/1    1.45934    1.44772 +/- 0.00974\n",
      "       33/1    1.40481    1.44586 +/- 0.00949\n",
      "       34/1    1.47602    1.44711 +/- 0.00917\n",
      "       35/1    1.47601    1.44827 +/- 0.00887\n",
      "       36/1    1.44354    1.44809 +/- 0.00853\n",
      "       37/1    1.54954    1.45185 +/- 0.00902\n",
      "       38/1    1.46876    1.45245 +/- 0.00872\n",
      "       39/1    1.51863    1.45473 +/- 0.00872\n",
      "       40/1    1.51529    1.45675 +/- 0.00866\n",
      "       41/1    1.39841    1.45487 +/- 0.00858\n",
      "       42/1    1.58314    1.45888 +/- 0.00923\n",
      "       43/1    1.51678    1.46063 +/- 0.00911\n",
      "       44/1    1.44328    1.46012 +/- 0.00886\n",
      "       45/1    1.42208    1.45903 +/- 0.00867\n",
      "       46/1    1.50118    1.46020 +/- 0.00850\n",
      "       47/1    1.50796    1.46150 +/- 0.00837\n",
      "       48/1    1.44889    1.46116 +/- 0.00816\n",
      "       49/1    1.48715    1.46183 +/- 0.00797\n",
      "       50/1    1.49559    1.46267 +/- 0.00782\n",
      " Creating state point statepoint.50.h5...\n",
      "\n",
      " =======================>     TIMING STATISTICS     <=======================\n",
      "\n",
      " Total time for initialization     = 2.7227e+00 seconds\n",
      "   Reading cross sections          = 2.7056e+00 seconds\n",
      " Total time in simulation          = 2.9029e+01 seconds\n",
      "   Time in transport only          = 2.8971e+01 seconds\n",
      "   Time in inactive batches        = 4.3605e+00 seconds\n",
      "   Time in active batches          = 2.4668e+01 seconds\n",
      "   Time synchronizing fission bank = 1.2921e-02 seconds\n",
      "     Sampling source sites         = 1.1835e-02 seconds\n",
      "     SEND/RECV source sites        = 8.8106e-04 seconds\n",
      "   Time accumulating tallies       = 2.9767e-02 seconds\n",
      "   Time writing statepoints        = 4.0624e-03 seconds\n",
      " Total time for finalization       = 1.3043e-03 seconds\n",
      " Total time elapsed                = 3.1779e+01 seconds\n",
      " Calculation Rate (inactive)       = 2293.29 particles/second\n",
      " Calculation Rate (active)         = 1621.53 particles/second\n",
      "\n",
      " ============================>     RESULTS     <============================\n",
      "\n",
      "> \u001b[0;32m/home/ooblack/projects/openmc/openmc/deplete/abc.py\u001b[0m(833)\u001b[0;36m_get_bos_data_from_operator\u001b[0;34m()\u001b[0m\n",
      "\u001b[0;32m    831 \u001b[0;31m        \u001b[0mx\u001b[0m \u001b[0;34m=\u001b[0m \u001b[0mdeepcopy\u001b[0m\u001b[0;34m(\u001b[0m\u001b[0mbos_conc\u001b[0m\u001b[0;34m)\u001b[0m\u001b[0;34m\u001b[0m\u001b[0;34m\u001b[0m\u001b[0m\n",
      "\u001b[0m\u001b[1;31m2\u001b[0;32m   832 \u001b[0;31m        \u001b[0mres\u001b[0m \u001b[0;34m=\u001b[0m \u001b[0mself\u001b[0m\u001b[0;34m.\u001b[0m\u001b[0moperator\u001b[0m\u001b[0;34m(\u001b[0m\u001b[0mx\u001b[0m\u001b[0;34m,\u001b[0m \u001b[0msource_rate\u001b[0m\u001b[0;34m)\u001b[0m\u001b[0;34m\u001b[0m\u001b[0;34m\u001b[0m\u001b[0m\n",
      "\u001b[0m\u001b[1;31m3\u001b[0;32m-> 833 \u001b[0;31m        \u001b[0mself\u001b[0m\u001b[0;34m.\u001b[0m\u001b[0moperator\u001b[0m\u001b[0;34m.\u001b[0m\u001b[0mwrite_bos_data\u001b[0m\u001b[0;34m(\u001b[0m\u001b[0mstep_index\u001b[0m \u001b[0;34m+\u001b[0m \u001b[0mself\u001b[0m\u001b[0;34m.\u001b[0m\u001b[0m_i_res\u001b[0m\u001b[0;34m)\u001b[0m\u001b[0;34m\u001b[0m\u001b[0;34m\u001b[0m\u001b[0m\n",
      "\u001b[0m\u001b[0;32m    834 \u001b[0;31m        \u001b[0;32mreturn\u001b[0m \u001b[0mx\u001b[0m\u001b[0;34m,\u001b[0m \u001b[0mres\u001b[0m\u001b[0;34m\u001b[0m\u001b[0;34m\u001b[0m\u001b[0m\n",
      "\u001b[0m\u001b[0;32m    835 \u001b[0;31m\u001b[0;34m\u001b[0m\u001b[0m\n",
      "\u001b[0m\n"
     ]
    },
    {
     "name": "stdout",
     "output_type": "stream",
     "text": [
      "ipdb> p res\n",
      "OperatorResult(k=1.4647752563947658+/-0.00392421929825487, rates=ReactionRates([[[1.36470751e-09, 0.00000000e+00],\n",
      "                [4.53572254e-05, 0.00000000e+00],\n",
      "                [4.64023298e-12, 0.00000000e+00],\n",
      "                [4.16111100e-10, 0.00000000e+00],\n",
      "                [2.56826162e-06, 0.00000000e+00],\n",
      "                [6.94796051e-10, 0.00000000e+00],\n",
      "                [4.60670818e-09, 9.91964909e-11],\n",
      "                [2.09538641e-09, 9.66965380e-09],\n",
      "                [1.72115793e-10, 2.11000691e-11]]]))\n",
      "ipdb> p type(res)\n",
      "<class 'openmc.deplete.abc.OperatorResult'>\n"
     ]
    }
   ],
   "source": [
    "import pdb\n",
    "pdb.set_trace()\n",
    "integrator.integrate()\n",
    "## b ../openmc/openmc/deplete/abc.py:833\n",
    "## c\n",
    "## p conc\n",
    "## p self.operator.initial_condition()"
   ]
  },
  {
   "cell_type": "markdown",
   "id": "b3825514",
   "metadata": {},
   "source": [
    "So it looks like that the line `with self.operator as conc` executes the `__enter__` special function, and instead returns the inital nuclide concentration instead of an `Operator` object as one would assume by reading the code."
   ]
  },
  {
   "cell_type": "markdown",
   "id": "a1229f97",
   "metadata": {},
   "source": [
    "#### 1b. Source rate, timestep size, and step index\n",
    "Similar to 1a, the `Integrator` class has an `__iter__` special function that returns the timesteps and source rates when passed as an argument to `enumerate()`."
   ]
  },
  {
   "cell_type": "markdown",
   "id": "0b417f38",
   "metadata": {},
   "source": [
    "#### 1c. Solving the transport equation.\n",
    "The second code line of the `_get_bos_data_from_operator` function is\n",
    "```python\n",
    "res = self.operator(x, source_rate)\n",
    "```\n",
    "\n",
    "This instruction executes the `TransportOperator` class's `__call__` special function, which runs a transport simulation. See `Operator.__call__()` in `operator.py` for the specific implementation using the OpenMC transport solver.\n",
    "\n",
    "The `_get_bos_data_from...` function returns the inital nuclide concentration for that depletion step (`conc`) as well as the results of the transport simulation (`res`). `res` is an object of the `OperatorResult` class.\n",
    "\n",
    "__This means that in theory, we could build up another `TransportOperator` subclass that has an appropriate method for running the transport solver, obtaining results therefrom, and storing them in an `OperatorResult` object, and we would not need to change any other component.__"
   ]
  },
  {
   "cell_type": "markdown",
   "id": "0ea4c3e4",
   "metadata": {},
   "source": [
    "#### 1d. Solving the Bateman equations\n",
    "\n",
    "The step to solve the bateman equations is a single line:\n",
    "\n",
    "```python\n",
    "                proc_time, conc_list, res_list = self(conc, res.rates, dt, source_rate, i)\n",
    "```\n",
    "This instruction executes `Integrator.__call__()` special function, which is implemented within specific `Integrator` subclasses.\n",
    "\n",
    "__My preliminary conclusion is that all of the necessary class stucture to separate out the depletion capabilties of OpenMC from its transport solver are in `abc.py`, as long as we can also find a way detangle the import statements.__"
   ]
  },
  {
   "cell_type": "markdown",
   "id": "6895156e",
   "metadata": {},
   "source": [
    "### 2. Import statements\n",
    "_Quick note: moving `TalliedFissionYieldHelper` to `helpers.py` would allow us to remove the `from openmc.lib import` statement in `abc.py`_"
   ]
  },
  {
   "cell_type": "code",
   "execution_count": null,
   "id": "f8bf7a24",
   "metadata": {},
   "outputs": [],
   "source": []
  }
 ],
 "metadata": {
  "kernelspec": {
   "display_name": "Python [conda env:openmc-env] *",
   "language": "python",
   "name": "conda-env-openmc-env-py"
  },
  "language_info": {
   "codemirror_mode": {
    "name": "ipython",
    "version": 3
   },
   "file_extension": ".py",
   "mimetype": "text/x-python",
   "name": "python",
   "nbconvert_exporter": "python",
   "pygments_lexer": "ipython3",
   "version": "3.10.2"
  }
 },
 "nbformat": 4,
 "nbformat_minor": 5
}
