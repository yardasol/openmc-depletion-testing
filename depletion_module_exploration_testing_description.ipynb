{
 "cells": [
  {
   "cell_type": "markdown",
   "id": "19c45fce",
   "metadata": {},
   "source": [
    "## Depletion module testing\n",
    "\n",
    "I will use this notebook to understand the functionality of OpenMC's ``deplete`` module"
   ]
  },
  {
   "cell_type": "markdown",
   "id": "def5d3f7",
   "metadata": {},
   "source": [
    "### 1. ``Integrator``\n",
    "The ``Integrator`` class is where the `integrate()` function that a user would call to run a depletion simulation lives. The `integrate()` function does several things:\n",
    "\n",
    "1. Gets the initial nuclide concentration (``with self.operator as conc:``)\n",
    "2. Gets the source rate (power or neutron flux), time step size, and step index the depletion calculation (``for i, (dt, source_rate) in enumerate(self):``)\n",
    "3. Solves the transport equation (``conc, res = self._get_bos_data_from_operator(i, source_rate, conc)``)\n",
    "4. Solves the bateman equations (``proc_time, conc_list, res_list = self(conc, res.rates, dt, source_rate, i)``)\n",
    "5. Saves the results in an HDF5 file.\n",
    "\n",
    "In the following cells, I will describe how each of these steps are done in detail."
   ]
  },
  {
   "cell_type": "code",
   "execution_count": null,
   "id": "ef82a11c",
   "metadata": {},
   "outputs": [],
   "source": []
  }
 ],
 "metadata": {
  "kernelspec": {
   "display_name": "Python [conda env:openmc-env] *",
   "language": "python",
   "name": "conda-env-openmc-env-py"
  },
  "language_info": {
   "codemirror_mode": {
    "name": "ipython",
    "version": 3
   },
   "file_extension": ".py",
   "mimetype": "text/x-python",
   "name": "python",
   "nbconvert_exporter": "python",
   "pygments_lexer": "ipython3",
   "version": "3.10.2"
  }
 },
 "nbformat": 4,
 "nbformat_minor": 5
}
