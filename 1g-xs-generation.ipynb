{
 "cells": [
  {
   "cell_type": "code",
   "execution_count": 1,
   "id": "0507c0ca",
   "metadata": {},
   "outputs": [],
   "source": [
    "import openmc\n",
    "import openmc.deplete as od\n",
    "import math\n",
    "import pandas as pd\n",
    "import numpy as np\n",
    "import openmc.mgxs as mgxs"
   ]
  },
  {
   "cell_type": "code",
   "execution_count": 2,
   "id": "fedf8bcd",
   "metadata": {},
   "outputs": [],
   "source": [
    "fuel = openmc.Material(name=\"uo2\")\n",
    "fuel.add_element(\"U\", 1, percent_type=\"ao\", enrichment=4.25)\n",
    "fuel.add_element(\"O\", 2)\n",
    "fuel.set_density(\"g/cc\", 10.4)\n",
    "\n",
    "clad = openmc.Material(name=\"clad\")\n",
    "clad.add_element(\"Zr\", 1)\n",
    "clad.set_density(\"g/cc\", 6)\n",
    "\n",
    "water = openmc.Material(name=\"water\")\n",
    "water.add_element(\"O\", 1)\n",
    "water.add_element(\"H\", 2)\n",
    "water.set_density(\"g/cc\", 1.0)\n",
    "water.add_s_alpha_beta(\"c_H_in_H2O\")\n",
    "\n",
    "radii = [0.42, 0.45]\n",
    "fuel.volume = np.pi * radii[0] ** 2\n",
    "clad.volume = np.pi * (radii[1]**2 - radii[0]**2)\n",
    "water.volume = 1.24**2 - (np.pi * radii[1]**2)\n",
    "\n",
    "materials = openmc.Materials([fuel, clad, water])"
   ]
  },
  {
   "cell_type": "code",
   "execution_count": 3,
   "id": "38658f46",
   "metadata": {},
   "outputs": [],
   "source": [
    "pin_surfaces = [openmc.ZCylinder(r=r) for r in radii]\n",
    "pin_univ = openmc.model.pin(pin_surfaces, materials)\n",
    "bound_box = openmc.rectangular_prism(1.24, 1.24, boundary_type=\"reflective\")\n",
    "root_cell = openmc.Cell(fill=pin_univ, region=bound_box)\n",
    "geometry = openmc.Geometry([root_cell])"
   ]
  },
  {
   "cell_type": "code",
   "execution_count": 4,
   "id": "d40b10a2",
   "metadata": {},
   "outputs": [],
   "source": [
    "settings = openmc.Settings()\n",
    "settings.particles = 1000\n",
    "settings.inactive = 10\n",
    "settings.batches = 50"
   ]
  },
  {
   "cell_type": "code",
   "execution_count": 23,
   "id": "37755901",
   "metadata": {},
   "outputs": [],
   "source": [
    "groups = mgxs.EnergyGroups()\n",
    "groups.group_edges = np.array([0.,20.0e6])\n",
    "fission = mgxs.FissionXS(domain=fuel, groups=groups, by_nuclide=True)\n",
    "capture = mgxs.CaptureXS(domain=fuel, groups=groups, by_nuclide=True)\n",
    "\n",
    "tallies = openmc.Tallies()\n",
    "tallies += fission.tallies.values()\n",
    "tallies += capture.tallies.values()\n"
   ]
  },
  {
   "cell_type": "code",
   "execution_count": 5,
   "id": "3d0c4226",
   "metadata": {},
   "outputs": [],
   "source": [
    "model = openmc.Model(geometry, materials, settings)"
   ]
  },
  {
   "cell_type": "code",
   "execution_count": 10,
   "id": "951fc35a",
   "metadata": {},
   "outputs": [
    {
     "data": {
      "text/plain": [
       "Material\n",
       "\tID             =\t1\n",
       "\tName           =\tuo2\n",
       "\tTemperature    =\tNone\n",
       "\tDensity        =\t10.4 [g/cc]\n",
       "\tS(a,b) Tables  \n",
       "\tNuclides       \n",
       "\tU234           =\t0.0003845183882296898 [ao]\n",
       "\tU235           =\t0.04301995213827323 [ao]\n",
       "\tU238           =\t0.9563984774295304 [ao]\n",
       "\tU236           =\t0.000197052043966672 [ao]\n",
       "\tO16            =\t1.999242     [ao]\n",
       "\tO17            =\t0.000758     [ao]"
      ]
     },
     "execution_count": 10,
     "metadata": {},
     "output_type": "execute_result"
    }
   ],
   "source": [
    "model.materials[0]"
   ]
  },
  {
   "cell_type": "code",
   "execution_count": 9,
   "id": "49b2da7f",
   "metadata": {},
   "outputs": [],
   "source": [
    "model.export_to_xml()"
   ]
  },
  {
   "cell_type": "code",
   "execution_count": 6,
   "id": "f586c555",
   "metadata": {},
   "outputs": [],
   "source": [
    "from openmc.deplete import MicroXS"
   ]
  },
  {
   "cell_type": "code",
   "execution_count": 7,
   "id": "c716aa31",
   "metadata": {
    "scrolled": true
   },
   "outputs": [
    {
     "name": "stderr",
     "output_type": "stream",
     "text": [
      "/home/ooblack/projects/openmc/openmc/mixin.py:67: IDWarning: Another Filter instance already exists with id=1.\n",
      "  warn(msg, IDWarning)\n",
      "/home/ooblack/projects/openmc/openmc/mixin.py:67: IDWarning: Another Filter instance already exists with id=2.\n",
      "  warn(msg, IDWarning)\n"
     ]
    },
    {
     "name": "stdout",
     "output_type": "stream",
     "text": [
      "                                %%%%%%%%%%%%%%%\n",
      "                           %%%%%%%%%%%%%%%%%%%%%%%%\n",
      "                        %%%%%%%%%%%%%%%%%%%%%%%%%%%%%%\n",
      "                      %%%%%%%%%%%%%%%%%%%%%%%%%%%%%%%%%%\n",
      "                    %%%%%%%%%%%%%%%%%%%%%%%%%%%%%%%%%%%%%%\n",
      "                   %%%%%%%%%%%%%%%%%%%%%%%%%%%%%%%%%%%%%%%%\n",
      "                                    %%%%%%%%%%%%%%%%%%%%%%%%\n",
      "                                     %%%%%%%%%%%%%%%%%%%%%%%%\n",
      "                 ###############      %%%%%%%%%%%%%%%%%%%%%%%%\n",
      "                ##################     %%%%%%%%%%%%%%%%%%%%%%%\n",
      "                ###################     %%%%%%%%%%%%%%%%%%%%%%%\n",
      "                ####################     %%%%%%%%%%%%%%%%%%%%%%\n",
      "                #####################     %%%%%%%%%%%%%%%%%%%%%\n",
      "                ######################     %%%%%%%%%%%%%%%%%%%%\n",
      "                #######################     %%%%%%%%%%%%%%%%%%\n",
      "                 #######################     %%%%%%%%%%%%%%%%%\n",
      "                 ######################     %%%%%%%%%%%%%%%%%\n",
      "                  ####################     %%%%%%%%%%%%%%%%%\n",
      "                    #################     %%%%%%%%%%%%%%%%%\n",
      "                     ###############     %%%%%%%%%%%%%%%%\n",
      "                       ############     %%%%%%%%%%%%%%%\n",
      "                          ########     %%%%%%%%%%%%%%\n",
      "                                      %%%%%%%%%%%\n",
      "\n",
      "                 | The OpenMC Monte Carlo Code\n",
      "       Copyright | 2011-2022 MIT, UChicago Argonne LLC, and contributors\n",
      "         License | https://docs.openmc.org/en/latest/license.html\n",
      "         Version | 0.13.1-dev\n",
      "        Git SHA1 | 5c0a4893bd69bb213876868a61560a0004be8fed\n",
      "       Date/Time | 2022-07-28 15:04:58\n",
      "  OpenMP Threads | 4\n",
      "\n",
      " Reading settings XML file...\n",
      " Reading cross sections XML file...\n",
      " Reading materials XML file...\n",
      " Reading geometry XML file...\n",
      " Reading U234 from /home/ooblack/nndc_hdf5/U234.h5\n",
      " Reading U235 from /home/ooblack/nndc_hdf5/U235.h5\n",
      " Reading U238 from /home/ooblack/nndc_hdf5/U238.h5\n",
      " Reading U236 from /home/ooblack/nndc_hdf5/U236.h5\n",
      " Reading O16 from /home/ooblack/nndc_hdf5/O16.h5\n",
      " Reading O17 from /home/ooblack/nndc_hdf5/O17.h5\n",
      " Reading Zr90 from /home/ooblack/nndc_hdf5/Zr90.h5\n",
      " Reading Zr91 from /home/ooblack/nndc_hdf5/Zr91.h5\n",
      " Reading Zr92 from /home/ooblack/nndc_hdf5/Zr92.h5\n",
      " Reading Zr94 from /home/ooblack/nndc_hdf5/Zr94.h5\n",
      " Reading Zr96 from /home/ooblack/nndc_hdf5/Zr96.h5\n",
      " Reading H1 from /home/ooblack/nndc_hdf5/H1.h5\n",
      " Reading H2 from /home/ooblack/nndc_hdf5/H2.h5\n",
      " Reading c_H_in_H2O from /home/ooblack/nndc_hdf5/c_H_in_H2O.h5\n",
      " Minimum neutron data temperature: 294 K\n",
      " Maximum neutron data temperature: 294 K\n",
      " Reading tallies XML file...\n",
      " Preparing distributed cell instances...\n",
      " Reading plot XML file...\n",
      " Writing summary.h5 file...\n",
      " Maximum neutron transport energy: 20000000 eV for U235\n",
      " Initializing source particles...\n",
      "\n",
      " ====================>     K EIGENVALUE SIMULATION     <====================\n",
      "\n",
      "  Bat./Gen.      k            Average k\n",
      "  =========   ========   ====================\n",
      "        1/1    1.52512\n",
      "        2/1    1.39626\n",
      "        3/1    1.42553\n",
      "        4/1    1.47528\n",
      "        5/1    1.50492\n",
      "        6/1    1.37620\n",
      "        7/1    1.41540\n",
      "        8/1    1.40311\n",
      "        9/1    1.45922\n",
      "       10/1    1.47371\n",
      "       11/1    1.46907\n",
      "       12/1    1.47459    1.47183 +/- 0.00276\n",
      "       13/1    1.44595    1.46320 +/- 0.00877\n",
      "       14/1    1.44486    1.45862 +/- 0.00771\n",
      "       15/1    1.41950    1.45080 +/- 0.00984\n",
      "       16/1    1.43605    1.44834 +/- 0.00840\n",
      "       17/1    1.51024    1.45718 +/- 0.01134\n",
      "       18/1    1.49056    1.46135 +/- 0.01067\n",
      "       19/1    1.48046    1.46348 +/- 0.00965\n",
      "       20/1    1.41611    1.45874 +/- 0.00984\n",
      "       21/1    1.51622    1.46397 +/- 0.01032\n",
      "       22/1    1.51663    1.46835 +/- 0.01040\n",
      "       23/1    1.55312    1.47487 +/- 0.01157\n",
      "       24/1    1.46352    1.47406 +/- 0.01075\n",
      "       25/1    1.44890    1.47239 +/- 0.01014\n",
      "       26/1    1.46269    1.47178 +/- 0.00951\n",
      "       27/1    1.51126    1.47410 +/- 0.00923\n",
      "       28/1    1.51957    1.47663 +/- 0.00906\n",
      "       29/1    1.46327    1.47593 +/- 0.00860\n",
      "       30/1    1.61869    1.48306 +/- 0.01084\n",
      "       31/1    1.43441    1.48075 +/- 0.01057\n",
      "       32/1    1.47988    1.48071 +/- 0.01008\n",
      "       33/1    1.43513    1.47873 +/- 0.00983\n",
      "       34/1    1.52601    1.48070 +/- 0.00962\n",
      "       35/1    1.46085    1.47990 +/- 0.00926\n",
      "       36/1    1.48255    1.48000 +/- 0.00889\n",
      "       37/1    1.40508    1.47723 +/- 0.00900\n",
      "       38/1    1.47046    1.47699 +/- 0.00867\n",
      "       39/1    1.47936    1.47707 +/- 0.00837\n",
      "       40/1    1.57310    1.48027 +/- 0.00870\n",
      "       41/1    1.55140    1.48257 +/- 0.00872\n",
      "       42/1    1.46406    1.48199 +/- 0.00846\n",
      "       43/1    1.45928    1.48130 +/- 0.00823\n",
      "       44/1    1.51076    1.48217 +/- 0.00803\n",
      "       45/1    1.39751    1.47975 +/- 0.00816\n",
      "       46/1    1.50849    1.48054 +/- 0.00797\n",
      "       47/1    1.56077    1.48271 +/- 0.00805\n",
      "       48/1    1.48151    1.48268 +/- 0.00784\n",
      "       49/1    1.48567    1.48276 +/- 0.00764\n",
      "       50/1    1.40648    1.48085 +/- 0.00768\n",
      " Creating state point statepoint.50.h5...\n",
      "\n",
      " =======================>     TIMING STATISTICS     <=======================\n",
      "\n",
      " Total time for initialization     = 5.6028e+00 seconds\n",
      "   Reading cross sections          = 5.5348e+00 seconds\n",
      " Total time in simulation          = 4.1606e+01 seconds\n",
      "   Time in transport only          = 4.1071e+01 seconds\n",
      "   Time in inactive batches        = 6.6544e+00 seconds\n",
      "   Time in active batches          = 3.4952e+01 seconds\n",
      "   Time synchronizing fission bank = 1.1130e-02 seconds\n",
      "     Sampling source sites         = 1.0399e-02 seconds\n",
      "     SEND/RECV source sites        = 6.5086e-04 seconds\n",
      "   Time accumulating tallies       = 4.8875e-01 seconds\n",
      "   Time writing statepoints        = 9.5627e-03 seconds\n",
      " Total time for finalization       = 8.0401e-04 seconds\n",
      " Total time elapsed                = 4.7256e+01 seconds\n",
      " Calculation Rate (inactive)       = 1502.76 particles/second\n",
      " Calculation Rate (active)         = 1144.43 particles/second\n",
      "\n",
      " ============================>     RESULTS     <============================\n",
      "\n",
      " k-effective (Collision)     = 1.48189 +/- 0.00661\n",
      " k-effective (Track-length)  = 1.48085 +/- 0.00768\n",
      " k-effective (Absorption)    = 1.47265 +/- 0.00462\n",
      " Combined k-effective        = 1.47549 +/- 0.00402\n",
      " Leakage Fraction            = 0.00000 +/- 0.00000\n",
      "\n"
     ]
    }
   ],
   "source": [
    "#import pdb\n",
    "#pdb.set_trace()\n",
    "micro_xs = MicroXS.from_model(model, fuel)\n",
    "\n",
    "# b /home/ooblack/projects/openmc/openmc/deplete/microxs.py:92"
   ]
  },
  {
   "cell_type": "code",
   "execution_count": 9,
   "id": "c495eeb3",
   "metadata": {},
   "outputs": [],
   "source": [
    "test_xs = MicroXS.from_csv('test_reference.csv')"
   ]
  },
  {
   "cell_type": "code",
   "execution_count": 10,
   "id": "87cf3983",
   "metadata": {},
   "outputs": [
    {
     "data": {
      "text/plain": [
       "True"
      ]
     },
     "execution_count": 10,
     "metadata": {},
     "output_type": "execute_result"
    }
   ],
   "source": [
    "np.all(micro_xs == test_xs)"
   ]
  },
  {
   "cell_type": "code",
   "execution_count": 11,
   "id": "e0861f8d",
   "metadata": {},
   "outputs": [
    {
     "data": {
      "text/plain": [
       "0.8652742788116056"
      ]
     },
     "execution_count": 11,
     "metadata": {},
     "output_type": "execute_result"
    }
   ],
   "source": [
    "micro_xs['(n,gamma)'].loc['U238']"
   ]
  },
  {
   "cell_type": "code",
   "execution_count": 12,
   "id": "abce04a2",
   "metadata": {},
   "outputs": [
    {
     "data": {
      "text/plain": [
       "0.8652742788116056"
      ]
     },
     "execution_count": 12,
     "metadata": {},
     "output_type": "execute_result"
    }
   ],
   "source": [
    "test_xs['(n,gamma)'].loc['U238']"
   ]
  },
  {
   "cell_type": "code",
   "execution_count": 8,
   "id": "6dd81733",
   "metadata": {},
   "outputs": [],
   "source": [
    "micro_xs.to_csv('test_reference.csv')"
   ]
  },
  {
   "cell_type": "code",
   "execution_count": 50,
   "id": "89a79cdf",
   "metadata": {},
   "outputs": [
    {
     "data": {
      "text/plain": [
       "0.8652742788116056"
      ]
     },
     "execution_count": 50,
     "metadata": {},
     "output_type": "execute_result"
    }
   ],
   "source": [
    "test_xs['(n,gamma)'].loc['U238']"
   ]
  },
  {
   "cell_type": "code",
   "execution_count": 49,
   "id": "eefcc742",
   "metadata": {},
   "outputs": [
    {
     "data": {
      "text/plain": [
       "0.8652742788116056"
      ]
     },
     "execution_count": 49,
     "metadata": {},
     "output_type": "execute_result"
    }
   ],
   "source": [
    "micro_xs['(n,gamma)'].loc['U238']"
   ]
  },
  {
   "cell_type": "code",
   "execution_count": 43,
   "id": "b9e8b722",
   "metadata": {},
   "outputs": [
    {
     "name": "stdout",
     "output_type": "stream",
     "text": [
      "                                %%%%%%%%%%%%%%%\n",
      "                           %%%%%%%%%%%%%%%%%%%%%%%%\n",
      "                        %%%%%%%%%%%%%%%%%%%%%%%%%%%%%%\n",
      "                      %%%%%%%%%%%%%%%%%%%%%%%%%%%%%%%%%%\n",
      "                    %%%%%%%%%%%%%%%%%%%%%%%%%%%%%%%%%%%%%%\n",
      "                   %%%%%%%%%%%%%%%%%%%%%%%%%%%%%%%%%%%%%%%%\n",
      "                                    %%%%%%%%%%%%%%%%%%%%%%%%\n",
      "                                     %%%%%%%%%%%%%%%%%%%%%%%%\n",
      "                 ###############      %%%%%%%%%%%%%%%%%%%%%%%%\n",
      "                ##################     %%%%%%%%%%%%%%%%%%%%%%%\n",
      "                ###################     %%%%%%%%%%%%%%%%%%%%%%%\n",
      "                ####################     %%%%%%%%%%%%%%%%%%%%%%\n",
      "                #####################     %%%%%%%%%%%%%%%%%%%%%\n",
      "                ######################     %%%%%%%%%%%%%%%%%%%%\n",
      "                #######################     %%%%%%%%%%%%%%%%%%\n",
      "                 #######################     %%%%%%%%%%%%%%%%%\n",
      "                 ######################     %%%%%%%%%%%%%%%%%\n",
      "                  ####################     %%%%%%%%%%%%%%%%%\n",
      "                    #################     %%%%%%%%%%%%%%%%%\n",
      "                     ###############     %%%%%%%%%%%%%%%%\n",
      "                       ############     %%%%%%%%%%%%%%%\n",
      "                          ########     %%%%%%%%%%%%%%\n",
      "                                      %%%%%%%%%%%\n",
      "\n",
      "                 | The OpenMC Monte Carlo Code\n",
      "       Copyright | 2011-2022 MIT, UChicago Argonne LLC, and contributors\n",
      "         License | https://docs.openmc.org/en/latest/license.html\n",
      "         Version | 0.13.1-dev\n",
      "        Git SHA1 | 5c0a4893bd69bb213876868a61560a0004be8fed\n",
      "       Date/Time | 2022-07-28 14:26:36\n",
      "  OpenMP Threads | 4\n",
      "\n",
      " Reading settings XML file...\n",
      " Reading cross sections XML file...\n",
      " Reading materials XML file...\n",
      " Reading geometry XML file...\n",
      " Reading U234 from /home/ooblack/nndc_hdf5/U234.h5\n",
      " Reading U235 from /home/ooblack/nndc_hdf5/U235.h5\n",
      " Reading U238 from /home/ooblack/nndc_hdf5/U238.h5\n",
      " Reading U236 from /home/ooblack/nndc_hdf5/U236.h5\n",
      " Reading O16 from /home/ooblack/nndc_hdf5/O16.h5\n",
      " Reading O17 from /home/ooblack/nndc_hdf5/O17.h5\n",
      " Reading Zr90 from /home/ooblack/nndc_hdf5/Zr90.h5\n",
      " Reading Zr91 from /home/ooblack/nndc_hdf5/Zr91.h5\n",
      " Reading Zr92 from /home/ooblack/nndc_hdf5/Zr92.h5\n",
      " Reading Zr94 from /home/ooblack/nndc_hdf5/Zr94.h5\n",
      " Reading Zr96 from /home/ooblack/nndc_hdf5/Zr96.h5\n",
      " Reading H1 from /home/ooblack/nndc_hdf5/H1.h5\n",
      " Reading H2 from /home/ooblack/nndc_hdf5/H2.h5\n",
      " Reading c_H_in_H2O from /home/ooblack/nndc_hdf5/c_H_in_H2O.h5\n",
      " Minimum neutron data temperature: 294 K\n",
      " Maximum neutron data temperature: 294 K\n",
      " Reading tallies XML file...\n",
      "terminate called after throwing an instance of 'std::runtime_error'\n",
      "  what():  Could not find material 4 specified on tally filter.\n"
     ]
    },
    {
     "ename": "RuntimeError",
     "evalue": "Could not find material 4 specified on tally filter.",
     "output_type": "error",
     "traceback": [
      "\u001b[0;31m---------------------------------------------------------------------------\u001b[0m",
      "\u001b[0;31mRuntimeError\u001b[0m                              Traceback (most recent call last)",
      "Input \u001b[0;32mIn [43]\u001b[0m, in \u001b[0;36m<module>\u001b[0;34m\u001b[0m\n\u001b[0;32m----> 1\u001b[0m \u001b[43mmodel\u001b[49m\u001b[38;5;241;43m.\u001b[39;49m\u001b[43mrun\u001b[49m\u001b[43m(\u001b[49m\u001b[43m)\u001b[49m\n",
      "File \u001b[0;32m~/projects/openmc/openmc/model/model.py:584\u001b[0m, in \u001b[0;36mModel.run\u001b[0;34m(self, particles, threads, geometry_debug, restart_file, tracks, output, cwd, openmc_exec, mpi_args, event_based)\u001b[0m\n\u001b[1;32m    581\u001b[0m \u001b[38;5;28;01melse\u001b[39;00m:\n\u001b[1;32m    582\u001b[0m     \u001b[38;5;66;03m# Then run via the command line\u001b[39;00m\n\u001b[1;32m    583\u001b[0m     \u001b[38;5;28mself\u001b[39m\u001b[38;5;241m.\u001b[39mexport_to_xml()\n\u001b[0;32m--> 584\u001b[0m     \u001b[43mopenmc\u001b[49m\u001b[38;5;241;43m.\u001b[39;49m\u001b[43mrun\u001b[49m\u001b[43m(\u001b[49m\u001b[43mparticles\u001b[49m\u001b[43m,\u001b[49m\u001b[43m \u001b[49m\u001b[43mthreads\u001b[49m\u001b[43m,\u001b[49m\u001b[43m \u001b[49m\u001b[43mgeometry_debug\u001b[49m\u001b[43m,\u001b[49m\u001b[43m \u001b[49m\u001b[43mrestart_file\u001b[49m\u001b[43m,\u001b[49m\n\u001b[1;32m    585\u001b[0m \u001b[43m               \u001b[49m\u001b[43mtracks\u001b[49m\u001b[43m,\u001b[49m\u001b[43m \u001b[49m\u001b[43moutput\u001b[49m\u001b[43m,\u001b[49m\u001b[43m \u001b[49m\u001b[43mPath\u001b[49m\u001b[43m(\u001b[49m\u001b[38;5;124;43m'\u001b[39;49m\u001b[38;5;124;43m.\u001b[39;49m\u001b[38;5;124;43m'\u001b[39;49m\u001b[43m)\u001b[49m\u001b[43m,\u001b[49m\u001b[43m \u001b[49m\u001b[43mopenmc_exec\u001b[49m\u001b[43m,\u001b[49m\u001b[43m \u001b[49m\u001b[43mmpi_args\u001b[49m\u001b[43m,\u001b[49m\n\u001b[1;32m    586\u001b[0m \u001b[43m               \u001b[49m\u001b[43mevent_based\u001b[49m\u001b[43m)\u001b[49m\n\u001b[1;32m    588\u001b[0m \u001b[38;5;66;03m# Get output directory and return the last statepoint written\u001b[39;00m\n\u001b[1;32m    589\u001b[0m \u001b[38;5;28;01mif\u001b[39;00m \u001b[38;5;28mself\u001b[39m\u001b[38;5;241m.\u001b[39msettings\u001b[38;5;241m.\u001b[39moutput \u001b[38;5;129;01mand\u001b[39;00m \u001b[38;5;124m'\u001b[39m\u001b[38;5;124mpath\u001b[39m\u001b[38;5;124m'\u001b[39m \u001b[38;5;129;01min\u001b[39;00m \u001b[38;5;28mself\u001b[39m\u001b[38;5;241m.\u001b[39msettings\u001b[38;5;241m.\u001b[39moutput:\n",
      "File \u001b[0;32m~/projects/openmc/openmc/executor.py:276\u001b[0m, in \u001b[0;36mrun\u001b[0;34m(particles, threads, geometry_debug, restart_file, tracks, output, cwd, openmc_exec, mpi_args, event_based)\u001b[0m\n\u001b[1;32m    232\u001b[0m \u001b[38;5;124;03m\"\"\"Run an OpenMC simulation.\u001b[39;00m\n\u001b[1;32m    233\u001b[0m \n\u001b[1;32m    234\u001b[0m \u001b[38;5;124;03mParameters\u001b[39;00m\n\u001b[0;32m   (...)\u001b[0m\n\u001b[1;32m    268\u001b[0m \n\u001b[1;32m    269\u001b[0m \u001b[38;5;124;03m\"\"\"\u001b[39;00m\n\u001b[1;32m    271\u001b[0m args \u001b[38;5;241m=\u001b[39m _process_CLI_arguments(\n\u001b[1;32m    272\u001b[0m     volume\u001b[38;5;241m=\u001b[39m\u001b[38;5;28;01mFalse\u001b[39;00m, geometry_debug\u001b[38;5;241m=\u001b[39mgeometry_debug, particles\u001b[38;5;241m=\u001b[39mparticles,\n\u001b[1;32m    273\u001b[0m     restart_file\u001b[38;5;241m=\u001b[39mrestart_file, threads\u001b[38;5;241m=\u001b[39mthreads, tracks\u001b[38;5;241m=\u001b[39mtracks,\n\u001b[1;32m    274\u001b[0m     event_based\u001b[38;5;241m=\u001b[39mevent_based, openmc_exec\u001b[38;5;241m=\u001b[39mopenmc_exec, mpi_args\u001b[38;5;241m=\u001b[39mmpi_args)\n\u001b[0;32m--> 276\u001b[0m \u001b[43m_run\u001b[49m\u001b[43m(\u001b[49m\u001b[43margs\u001b[49m\u001b[43m,\u001b[49m\u001b[43m \u001b[49m\u001b[43moutput\u001b[49m\u001b[43m,\u001b[49m\u001b[43m \u001b[49m\u001b[43mcwd\u001b[49m\u001b[43m)\u001b[49m\n",
      "File \u001b[0;32m~/projects/openmc/openmc/executor.py:116\u001b[0m, in \u001b[0;36m_run\u001b[0;34m(args, output, cwd)\u001b[0m\n\u001b[1;32m    113\u001b[0m     error_msg \u001b[38;5;241m=\u001b[39m \u001b[38;5;124m'\u001b[39m\u001b[38;5;124mOpenMC aborted unexpectedly.\u001b[39m\u001b[38;5;124m'\u001b[39m\n\u001b[1;32m    114\u001b[0m error_msg \u001b[38;5;241m=\u001b[39m \u001b[38;5;124m'\u001b[39m\u001b[38;5;124m \u001b[39m\u001b[38;5;124m'\u001b[39m\u001b[38;5;241m.\u001b[39mjoin(error_msg\u001b[38;5;241m.\u001b[39msplit())\n\u001b[0;32m--> 116\u001b[0m \u001b[38;5;28;01mraise\u001b[39;00m \u001b[38;5;167;01mRuntimeError\u001b[39;00m(error_msg)\n",
      "\u001b[0;31mRuntimeError\u001b[0m: Could not find material 4 specified on tally filter."
     ]
    }
   ],
   "source": [
    "model.run()"
   ]
  },
  {
   "cell_type": "markdown",
   "id": "640818d2",
   "metadata": {},
   "source": [
    "## Get 1G XS"
   ]
  },
  {
   "cell_type": "code",
   "execution_count": 26,
   "id": "44e08278",
   "metadata": {},
   "outputs": [],
   "source": [
    "# Load the last statepoint file\n",
    "sp = openmc.StatePoint('statepoint.50.h5')\n",
    "\n",
    "\n",
    "# Load the tallies from the statepoint into each MGXS object\n",
    "fission.load_from_statepoint(sp)\n",
    "capture.load_from_statepoint(sp)\n",
    "# Close the statepoint file now that we're done getting info\n",
    "sp.close()"
   ]
  },
  {
   "cell_type": "code",
   "execution_count": 33,
   "id": "76ed4625",
   "metadata": {},
   "outputs": [
    {
     "data": {
      "text/html": [
       "<div>\n",
       "<style scoped>\n",
       "    .dataframe tbody tr th:only-of-type {\n",
       "        vertical-align: middle;\n",
       "    }\n",
       "\n",
       "    .dataframe tbody tr th {\n",
       "        vertical-align: top;\n",
       "    }\n",
       "\n",
       "    .dataframe thead th {\n",
       "        text-align: right;\n",
       "    }\n",
       "</style>\n",
       "<table border=\"1\" class=\"dataframe\">\n",
       "  <thead>\n",
       "    <tr style=\"text-align: right;\">\n",
       "      <th></th>\n",
       "      <th>material</th>\n",
       "      <th>group in</th>\n",
       "      <th>nuclide</th>\n",
       "      <th>mean</th>\n",
       "      <th>std. dev.</th>\n",
       "    </tr>\n",
       "  </thead>\n",
       "  <tbody>\n",
       "    <tr>\n",
       "      <th>0</th>\n",
       "      <td>4</td>\n",
       "      <td>1</td>\n",
       "      <td>U234</td>\n",
       "      <td>0.495319</td>\n",
       "      <td>0.003178</td>\n",
       "    </tr>\n",
       "    <tr>\n",
       "      <th>1</th>\n",
       "      <td>4</td>\n",
       "      <td>1</td>\n",
       "      <td>U235</td>\n",
       "      <td>49.109559</td>\n",
       "      <td>0.298703</td>\n",
       "    </tr>\n",
       "    <tr>\n",
       "      <th>2</th>\n",
       "      <td>4</td>\n",
       "      <td>1</td>\n",
       "      <td>U238</td>\n",
       "      <td>0.105793</td>\n",
       "      <td>0.000924</td>\n",
       "    </tr>\n",
       "    <tr>\n",
       "      <th>3</th>\n",
       "      <td>4</td>\n",
       "      <td>1</td>\n",
       "      <td>U236</td>\n",
       "      <td>0.323154</td>\n",
       "      <td>0.005135</td>\n",
       "    </tr>\n",
       "    <tr>\n",
       "      <th>4</th>\n",
       "      <td>4</td>\n",
       "      <td>1</td>\n",
       "      <td>O16</td>\n",
       "      <td>0.000000</td>\n",
       "      <td>0.000000</td>\n",
       "    </tr>\n",
       "    <tr>\n",
       "      <th>5</th>\n",
       "      <td>4</td>\n",
       "      <td>1</td>\n",
       "      <td>O17</td>\n",
       "      <td>0.000000</td>\n",
       "      <td>0.000000</td>\n",
       "    </tr>\n",
       "  </tbody>\n",
       "</table>\n",
       "</div>"
      ],
      "text/plain": [
       "   material  group in nuclide       mean  std. dev.\n",
       "0         4         1    U234   0.495319   0.003178\n",
       "1         4         1    U235  49.109559   0.298703\n",
       "2         4         1    U238   0.105793   0.000924\n",
       "3         4         1    U236   0.323154   0.005135\n",
       "4         4         1     O16   0.000000   0.000000\n",
       "5         4         1     O17   0.000000   0.000000"
      ]
     },
     "execution_count": 33,
     "metadata": {},
     "output_type": "execute_result"
    }
   ],
   "source": [
    "fission_df"
   ]
  },
  {
   "cell_type": "code",
   "execution_count": 32,
   "id": "339faa7e",
   "metadata": {},
   "outputs": [],
   "source": [
    "fission_df = fission.get_pandas_dataframe(xs_type='micro')\n",
    "capture_df = capture.get_pandas_dataframe(xs_type='micro')"
   ]
  },
  {
   "cell_type": "code",
   "execution_count": 12,
   "id": "2027741a",
   "metadata": {},
   "outputs": [],
   "source": [
    "capture_df.index=capture_df['nuclide']\n",
    "fission_df.index=fission_df['nuclide']"
   ]
  },
  {
   "cell_type": "code",
   "execution_count": 14,
   "id": "9b337aed",
   "metadata": {},
   "outputs": [],
   "source": [
    "capture_df.drop(['nuclide','material','group in','std. dev.'], axis=1, inplace=True)\n",
    "fission_df.drop(['nuclide','material','group in','std. dev.'], axis=1, inplace=True)"
   ]
  },
  {
   "cell_type": "code",
   "execution_count": 15,
   "id": "ab5c0760",
   "metadata": {},
   "outputs": [],
   "source": [
    "capture_df.rename({'mean':'(n,gamma)'}, axis=1, inplace=True)\n",
    "fission_df.rename({'mean':'fission'}, axis=1, inplace=True)"
   ]
  },
  {
   "cell_type": "code",
   "execution_count": 16,
   "id": "dfa034ba",
   "metadata": {},
   "outputs": [],
   "source": [
    "micro_xs = pd.concat([capture_df,fission_df], axis=1)"
   ]
  },
  {
   "cell_type": "code",
   "execution_count": 6,
   "id": "ed00fc9c",
   "metadata": {},
   "outputs": [
    {
     "ename": "NameError",
     "evalue": "name 'micro_xs' is not defined",
     "output_type": "error",
     "traceback": [
      "\u001b[0;31m---------------------------------------------------------------------------\u001b[0m",
      "\u001b[0;31mNameError\u001b[0m                                 Traceback (most recent call last)",
      "Input \u001b[0;32mIn [6]\u001b[0m, in \u001b[0;36m<module>\u001b[0;34m\u001b[0m\n\u001b[0;32m----> 1\u001b[0m \u001b[43mmicro_xs\u001b[49m\n",
      "\u001b[0;31mNameError\u001b[0m: name 'micro_xs' is not defined"
     ]
    }
   ],
   "source": [
    "micro_xs"
   ]
  },
  {
   "cell_type": "code",
   "execution_count": 14,
   "id": "88526a62",
   "metadata": {},
   "outputs": [
    {
     "ename": "AttributeError",
     "evalue": "module 'openmc.deplete' has no attribute 'MicroXS'",
     "output_type": "error",
     "traceback": [
      "\u001b[0;31m---------------------------------------------------------------------------\u001b[0m",
      "\u001b[0;31mAttributeError\u001b[0m                            Traceback (most recent call last)",
      "Input \u001b[0;32mIn [14]\u001b[0m, in \u001b[0;36m<module>\u001b[0;34m\u001b[0m\n\u001b[1;32m      1\u001b[0m \u001b[38;5;66;03m# now try simply using the helper function\u001b[39;00m\n\u001b[1;32m      2\u001b[0m \u001b[38;5;66;03m#import pdb\u001b[39;00m\n\u001b[1;32m      3\u001b[0m \u001b[38;5;66;03m#pdb.set_trace()\u001b[39;00m\n\u001b[0;32m----> 4\u001b[0m micro_xs \u001b[38;5;241m=\u001b[39m \u001b[43mopenmc\u001b[49m\u001b[38;5;241;43m.\u001b[39;49m\u001b[43mdeplete\u001b[49m\u001b[38;5;241;43m.\u001b[39;49m\u001b[43mMicroXS\u001b[49m\u001b[38;5;241m.\u001b[39mfrom_model(model, reaction_domain\u001b[38;5;241m=\u001b[39mfuel, write_to_csv\u001b[38;5;241m=\u001b[39m\u001b[38;5;28;01mFalse\u001b[39;00m)\n",
      "\u001b[0;31mAttributeError\u001b[0m: module 'openmc.deplete' has no attribute 'MicroXS'"
     ]
    }
   ],
   "source": [
    "# now try simply using the helper function\n",
    "#import pdb\n",
    "#pdb.set_trace()\n",
    "micro_xs = openmc.deplete.MicroXS.from_model(model, reaction_domain=fuel, write_to_csv=False)\n",
    "\n",
    "# b /home/ooblack/projects/openmc/openmc/deplete/flux_operator.py:550"
   ]
  },
  {
   "cell_type": "code",
   "execution_count": 141,
   "id": "5d7303fe",
   "metadata": {},
   "outputs": [],
   "source": [
    "micro_xs.to_csv('micro_xs_simple.csv')"
   ]
  },
  {
   "cell_type": "code",
   "execution_count": 20,
   "id": "c5ba163a",
   "metadata": {},
   "outputs": [
    {
     "data": {
      "text/plain": [
       "odict_values([Tally\n",
       "\tID             =\t8\n",
       "\tName           =\t\n",
       "\tFilters        =\tMaterialFilter, EnergyFilter\n",
       "\tNuclides       =\ttotal\n",
       "\tScores         =\t['flux']\n",
       "\tEstimator      =\ttracklength, Tally\n",
       "\tID             =\t9\n",
       "\tName           =\t\n",
       "\tFilters        =\tMaterialFilter, EnergyFilter\n",
       "\tNuclides       =\tU234 U235 U238 U236 O16 O17\n",
       "\tScores         =\t['absorption']\n",
       "\tEstimator      =\ttracklength, Tally\n",
       "\tID             =\t10\n",
       "\tName           =\t\n",
       "\tFilters        =\tMaterialFilter, EnergyFilter\n",
       "\tNuclides       =\tU234 U235 U238 U236 O16 O17\n",
       "\tScores         =\t['fission']\n",
       "\tEstimator      =\ttracklength])"
      ]
     },
     "execution_count": 20,
     "metadata": {},
     "output_type": "execute_result"
    }
   ],
   "source": [
    "capture.tallies.values()"
   ]
  },
  {
   "cell_type": "code",
   "execution_count": null,
   "id": "b26009e0",
   "metadata": {},
   "outputs": [],
   "source": [
    "micro_xs.to"
   ]
  },
  {
   "cell_type": "code",
   "execution_count": 140,
   "id": "71b13e3c",
   "metadata": {},
   "outputs": [
    {
     "data": {
      "text/plain": [
       "'nuclide,\"(n,gamma)\",fission\\nU234,23.518634203050645,0.49531930067650976\\nU235,10.621118186344665,49.10955932965905\\nU238,0.8652742788116043,0.10579281644765708\\nU236,9.095623870006154,0.32315392339237936\\nO16,0.0029535689693132015,0.0\\nO17,0.05980775766572907,0.0\\n'"
      ]
     },
     "execution_count": 140,
     "metadata": {},
     "output_type": "execute_result"
    }
   ],
   "source": [
    "micro_xs.to_csv('')"
   ]
  },
  {
   "cell_type": "code",
   "execution_count": 17,
   "id": "51eee2a0",
   "metadata": {},
   "outputs": [
    {
     "name": "stdout",
     "output_type": "stream",
     "text": [
      "Multi-Group XS\n",
      "\tReaction Type  =\tfission\n",
      "\tDomain Type    =\tmaterial\n",
      "\tDomain ID      =\t1\n",
      "\tNuclide        =\tU234\n",
      "\tCross Sections [barns]:\n",
      "            Group 1 [0.0        - 20000000.0eV]:\t4.95e-01 +/- 6.42e-01%\n",
      "\n",
      "\tNuclide        =\tU235\n",
      "\tCross Sections [barns]:\n",
      "            Group 1 [0.0        - 20000000.0eV]:\t4.91e+01 +/- 6.08e-01%\n",
      "\n",
      "\tNuclide        =\tU238\n",
      "\tCross Sections [barns]:\n",
      "            Group 1 [0.0        - 20000000.0eV]:\t1.06e-01 +/- 8.73e-01%\n",
      "\n",
      "\tNuclide        =\tU236\n",
      "\tCross Sections [barns]:\n",
      "            Group 1 [0.0        - 20000000.0eV]:\t3.23e-01 +/- 1.59e+00%\n",
      "\n",
      "\tNuclide        =\tO16\n",
      "\tCross Sections [barns]:\n",
      "            Group 1 [0.0        - 20000000.0eV]:\t0.00e+00 +/- 0.00e+00%\n",
      "\n",
      "\tNuclide        =\tO17\n",
      "\tCross Sections [barns]:\n",
      "            Group 1 [0.0        - 20000000.0eV]:\t0.00e+00 +/- 0.00e+00%\n",
      "\n",
      "\n",
      "\n"
     ]
    },
    {
     "name": "stderr",
     "output_type": "stream",
     "text": [
      "/home/ooblack/projects/openmc/openmc/tallies.py:1255: RuntimeWarning: invalid value encountered in true_divide\n",
      "  data = self.std_dev[indices] / self.mean[indices]\n"
     ]
    }
   ],
   "source": [
    "fission.print_xs(xs_type='micro')"
   ]
  },
  {
   "cell_type": "code",
   "execution_count": null,
   "id": "5badab3d",
   "metadata": {},
   "outputs": [],
   "source": []
  },
  {
   "cell_type": "code",
   "execution_count": 136,
   "id": "1b5d10b9",
   "metadata": {},
   "outputs": [
    {
     "data": {
      "text/html": [
       "<div>\n",
       "<style scoped>\n",
       "    .dataframe tbody tr th:only-of-type {\n",
       "        vertical-align: middle;\n",
       "    }\n",
       "\n",
       "    .dataframe tbody tr th {\n",
       "        vertical-align: top;\n",
       "    }\n",
       "\n",
       "    .dataframe thead th {\n",
       "        text-align: right;\n",
       "    }\n",
       "</style>\n",
       "<table border=\"1\" class=\"dataframe\">\n",
       "  <thead>\n",
       "    <tr style=\"text-align: right;\">\n",
       "      <th></th>\n",
       "      <th>mean</th>\n",
       "    </tr>\n",
       "    <tr>\n",
       "      <th>nuclide</th>\n",
       "      <th></th>\n",
       "    </tr>\n",
       "  </thead>\n",
       "  <tbody>\n",
       "    <tr>\n",
       "      <th>U234</th>\n",
       "      <td>23.518634</td>\n",
       "    </tr>\n",
       "    <tr>\n",
       "      <th>U235</th>\n",
       "      <td>10.621118</td>\n",
       "    </tr>\n",
       "    <tr>\n",
       "      <th>U238</th>\n",
       "      <td>0.865274</td>\n",
       "    </tr>\n",
       "    <tr>\n",
       "      <th>U236</th>\n",
       "      <td>9.095624</td>\n",
       "    </tr>\n",
       "    <tr>\n",
       "      <th>O16</th>\n",
       "      <td>0.002954</td>\n",
       "    </tr>\n",
       "    <tr>\n",
       "      <th>O17</th>\n",
       "      <td>0.059808</td>\n",
       "    </tr>\n",
       "  </tbody>\n",
       "</table>\n",
       "</div>"
      ],
      "text/plain": [
       "              mean\n",
       "nuclide           \n",
       "U234     23.518634\n",
       "U235     10.621118\n",
       "U238      0.865274\n",
       "U236      9.095624\n",
       "O16       0.002954\n",
       "O17       0.059808"
      ]
     },
     "execution_count": 136,
     "metadata": {},
     "output_type": "execute_result"
    }
   ],
   "source": [
    "capture_df"
   ]
  },
  {
   "cell_type": "code",
   "execution_count": null,
   "id": "daf60a87",
   "metadata": {},
   "outputs": [],
   "source": []
  }
 ],
 "metadata": {
  "kernelspec": {
   "display_name": "Python [conda env:openmc-env] *",
   "language": "python",
   "name": "conda-env-openmc-env-py"
  },
  "language_info": {
   "codemirror_mode": {
    "name": "ipython",
    "version": 3
   },
   "file_extension": ".py",
   "mimetype": "text/x-python",
   "name": "python",
   "nbconvert_exporter": "python",
   "pygments_lexer": "ipython3",
   "version": "3.10.2"
  }
 },
 "nbformat": 4,
 "nbformat_minor": 5
}
