{
 "cells": [
  {
   "cell_type": "code",
   "execution_count": 1,
   "id": "0507c0ca",
   "metadata": {},
   "outputs": [],
   "source": [
    "import openmc\n",
    "import openmc.deplete as od\n",
    "import math\n",
    "import pandas as pd\n",
    "import numpy as np\n",
    "import openmc.mgxs as mgxs"
   ]
  },
  {
   "cell_type": "code",
   "execution_count": 2,
   "id": "fedf8bcd",
   "metadata": {},
   "outputs": [],
   "source": [
    "fuel = openmc.Material(name=\"uo2\")\n",
    "fuel.add_element(\"U\", 1, percent_type=\"ao\", enrichment=4.25)\n",
    "fuel.add_element(\"O\", 2)\n",
    "#fuel.add_nuclide('I135',)\n",
    "#fuel.add_nuclide('Xe135', )\n",
    "#fuel.add_nuclide('Xe136', )\n",
    "#fuel.add_nuclide('Cs135', )\n",
    "#fuel.add_nuclide('Gd157', )\n",
    "#fuel.add_nuclide('Gd156')\n",
    "#fuel.set_density(\"g/cc\", 10.4)\n",
    "\n",
    "#fuel.set_density('sum')\n",
    "#for nuc in ['I135','Xe135','Cs135','Gd157','Gd156']:\n",
    "#    if nuc not in available_cross_sections:\n",
    "#        continue\n",
    "#    atoms = result[0, mat_id, nuc]\n",
    "#    if atoms > 0.0:\n",
    "#        atoms_per_barn_cm = 1e-24 * atoms / mat.volume\n",
    "#        mat.remove_nuclide(nuc) # Replace if it's there\n",
    "#        mat.add_nuclide(nuc, atoms_per_barn_cm)\n",
    "\n",
    "clad = openmc.Material(name=\"clad\")\n",
    "clad.add_element(\"Zr\", 1)\n",
    "clad.set_density(\"g/cc\", 6)\n",
    "\n",
    "water = openmc.Material(name=\"water\")\n",
    "water.add_element(\"O\", 1)\n",
    "water.add_element(\"H\", 2)\n",
    "water.set_density(\"g/cc\", 1.0)\n",
    "water.add_s_alpha_beta(\"c_H_in_H2O\")\n",
    "\n",
    "radii = [0.42, 0.45]\n",
    "fuel.volume = math.pi * radii[0] ** 2\n",
    "\n",
    "materials = openmc.Materials([fuel, clad, water])"
   ]
  },
  {
   "cell_type": "code",
   "execution_count": 150,
   "id": "99e92b5f",
   "metadata": {},
   "outputs": [
    {
     "data": {
      "text/plain": [
       "OrderedDict([('U234', ('U234', 8.922411359424316e-06)),\n",
       "             ('U235', ('U235', 0.000998240191860822)),\n",
       "             ('U238', ('U238', 0.022192386373095892)),\n",
       "             ('U236', ('U236', 4.572419549506112e-06)),\n",
       "             ('O16', ('O16', 0.04639065406771322)),\n",
       "             ('O17', ('O17', 1.7588724018066158e-05))])"
      ]
     },
     "execution_count": 150,
     "metadata": {},
     "output_type": "execute_result"
    }
   ],
   "source": [
    "fuel.get_nuclide_atom_densities()"
   ]
  },
  {
   "cell_type": "code",
   "execution_count": 3,
   "id": "38658f46",
   "metadata": {},
   "outputs": [],
   "source": [
    "pin_surfaces = [openmc.ZCylinder(r=r) for r in radii]\n",
    "pin_univ = openmc.model.pin(pin_surfaces, materials)\n",
    "bound_box = openmc.rectangular_prism(1.24, 1.24, boundary_type=\"reflective\")\n",
    "root_cell = openmc.Cell(fill=pin_univ, region=bound_box)\n",
    "geometry = openmc.Geometry([root_cell])"
   ]
  },
  {
   "cell_type": "code",
   "execution_count": 4,
   "id": "d40b10a2",
   "metadata": {},
   "outputs": [],
   "source": [
    "settings = openmc.Settings()\n",
    "settings.particles = 1000\n",
    "settings.inactive = 10\n",
    "settings.batches = 50"
   ]
  },
  {
   "cell_type": "code",
   "execution_count": 5,
   "id": "37755901",
   "metadata": {},
   "outputs": [],
   "source": [
    "groups = mgxs.EnergyGroups()\n",
    "groups.group_edges = np.array([0.,20.0e6])\n",
    "fission = mgxs.FissionXS(domain=fuel, groups=groups, by_nuclide=True)\n",
    "capture = mgxs.CaptureXS(domain=fuel, groups=groups,by_nuclide=True)\n",
    "\n",
    "tallies = openmc.Tallies()\n",
    "tallies += fission.tallies.values()\n",
    "tallies += capture.tallies.values()\n"
   ]
  },
  {
   "cell_type": "code",
   "execution_count": 6,
   "id": "3d0c4226",
   "metadata": {},
   "outputs": [],
   "source": [
    "model = openmc.model.Model(geometry, materials, settings, tallies)"
   ]
  },
  {
   "cell_type": "code",
   "execution_count": 7,
   "id": "cc53e365",
   "metadata": {},
   "outputs": [
    {
     "name": "stderr",
     "output_type": "stream",
     "text": [
      "/home/ooblack/projects/openmc/openmc/mixin.py:67: IDWarning: Another Filter instance already exists with id=1.\n",
      "  warn(msg, IDWarning)\n",
      "/home/ooblack/projects/openmc/openmc/mixin.py:67: IDWarning: Another Filter instance already exists with id=2.\n",
      "  warn(msg, IDWarning)\n"
     ]
    },
    {
     "name": "stdout",
     "output_type": "stream",
     "text": [
      "                                %%%%%%%%%%%%%%%\n",
      "                           %%%%%%%%%%%%%%%%%%%%%%%%\n",
      "                        %%%%%%%%%%%%%%%%%%%%%%%%%%%%%%\n",
      "                      %%%%%%%%%%%%%%%%%%%%%%%%%%%%%%%%%%\n",
      "                    %%%%%%%%%%%%%%%%%%%%%%%%%%%%%%%%%%%%%%\n",
      "                   %%%%%%%%%%%%%%%%%%%%%%%%%%%%%%%%%%%%%%%%\n",
      "                                    %%%%%%%%%%%%%%%%%%%%%%%%\n",
      "                                     %%%%%%%%%%%%%%%%%%%%%%%%\n",
      "                 ###############      %%%%%%%%%%%%%%%%%%%%%%%%\n",
      "                ##################     %%%%%%%%%%%%%%%%%%%%%%%\n",
      "                ###################     %%%%%%%%%%%%%%%%%%%%%%%\n",
      "                ####################     %%%%%%%%%%%%%%%%%%%%%%\n",
      "                #####################     %%%%%%%%%%%%%%%%%%%%%\n",
      "                ######################     %%%%%%%%%%%%%%%%%%%%\n",
      "                #######################     %%%%%%%%%%%%%%%%%%\n",
      "                 #######################     %%%%%%%%%%%%%%%%%\n",
      "                 ######################     %%%%%%%%%%%%%%%%%\n",
      "                  ####################     %%%%%%%%%%%%%%%%%\n",
      "                    #################     %%%%%%%%%%%%%%%%%\n",
      "                     ###############     %%%%%%%%%%%%%%%%\n",
      "                       ############     %%%%%%%%%%%%%%%\n",
      "                          ########     %%%%%%%%%%%%%%\n",
      "                                      %%%%%%%%%%%\n",
      "\n",
      "                 | The OpenMC Monte Carlo Code\n",
      "       Copyright | 2011-2022 MIT, UChicago Argonne LLC, and contributors\n",
      "         License | https://docs.openmc.org/en/latest/license.html\n",
      "         Version | 0.13.1-dev\n",
      "        Git SHA1 | 5c0a4893bd69bb213876868a61560a0004be8fed\n",
      "       Date/Time | 2022-07-05 17:16:32\n",
      "  OpenMP Threads | 4\n",
      "\n",
      " Reading settings XML file...\n",
      " Reading cross sections XML file...\n",
      " Reading materials XML file...\n",
      " Reading geometry XML file...\n",
      " Reading U234 from /home/ooblack/nndc_hdf5/U234.h5\n",
      " Reading U235 from /home/ooblack/nndc_hdf5/U235.h5\n",
      " Reading U238 from /home/ooblack/nndc_hdf5/U238.h5\n",
      " Reading U236 from /home/ooblack/nndc_hdf5/U236.h5\n",
      " Reading O16 from /home/ooblack/nndc_hdf5/O16.h5\n",
      " Reading O17 from /home/ooblack/nndc_hdf5/O17.h5\n",
      " Reading Zr90 from /home/ooblack/nndc_hdf5/Zr90.h5\n",
      " Reading Zr91 from /home/ooblack/nndc_hdf5/Zr91.h5\n",
      " Reading Zr92 from /home/ooblack/nndc_hdf5/Zr92.h5\n",
      " Reading Zr94 from /home/ooblack/nndc_hdf5/Zr94.h5\n",
      " Reading Zr96 from /home/ooblack/nndc_hdf5/Zr96.h5\n",
      " Reading H1 from /home/ooblack/nndc_hdf5/H1.h5\n",
      " Reading H2 from /home/ooblack/nndc_hdf5/H2.h5\n",
      " Reading c_H_in_H2O from /home/ooblack/nndc_hdf5/c_H_in_H2O.h5\n",
      " Minimum neutron data temperature: 294 K\n",
      " Maximum neutron data temperature: 294 K\n",
      " Reading tallies XML file...\n",
      " Preparing distributed cell instances...\n",
      " Reading plot XML file...\n",
      " Writing summary.h5 file...\n",
      " Maximum neutron transport energy: 20000000 eV for U235\n",
      " Initializing source particles...\n",
      "\n",
      " ====================>     K EIGENVALUE SIMULATION     <====================\n",
      "\n",
      "  Bat./Gen.      k            Average k\n",
      "  =========   ========   ====================\n",
      "        1/1    1.52512\n",
      "        2/1    1.39626\n",
      "        3/1    1.42553\n",
      "        4/1    1.47528\n",
      "        5/1    1.50492\n",
      "        6/1    1.37620\n",
      "        7/1    1.41540\n",
      "        8/1    1.40311\n",
      "        9/1    1.45922\n",
      "       10/1    1.47371\n",
      "       11/1    1.46907\n",
      "       12/1    1.47459    1.47183 +/- 0.00276\n",
      "       13/1    1.44595    1.46320 +/- 0.00877\n",
      "       14/1    1.44486    1.45862 +/- 0.00771\n",
      "       15/1    1.41950    1.45080 +/- 0.00984\n",
      "       16/1    1.43605    1.44834 +/- 0.00840\n",
      "       17/1    1.51024    1.45718 +/- 0.01134\n",
      "       18/1    1.49056    1.46135 +/- 0.01067\n",
      "       19/1    1.48046    1.46348 +/- 0.00965\n",
      "       20/1    1.41611    1.45874 +/- 0.00984\n",
      "       21/1    1.51622    1.46397 +/- 0.01032\n",
      "       22/1    1.51663    1.46835 +/- 0.01040\n",
      "       23/1    1.55312    1.47487 +/- 0.01157\n",
      "       24/1    1.46352    1.47406 +/- 0.01075\n",
      "       25/1    1.44890    1.47239 +/- 0.01014\n",
      "       26/1    1.46269    1.47178 +/- 0.00951\n",
      "       27/1    1.51126    1.47410 +/- 0.00923\n",
      "       28/1    1.51957    1.47663 +/- 0.00906\n",
      "       29/1    1.46327    1.47593 +/- 0.00860\n",
      "       30/1    1.61869    1.48306 +/- 0.01084\n",
      "       31/1    1.43441    1.48075 +/- 0.01057\n",
      "       32/1    1.47988    1.48071 +/- 0.01008\n",
      "       33/1    1.43513    1.47873 +/- 0.00983\n",
      "       34/1    1.52601    1.48070 +/- 0.00962\n",
      "       35/1    1.46085    1.47990 +/- 0.00926\n",
      "       36/1    1.48255    1.48000 +/- 0.00889\n",
      "       37/1    1.40508    1.47723 +/- 0.00900\n",
      "       38/1    1.47046    1.47699 +/- 0.00867\n",
      "       39/1    1.47936    1.47707 +/- 0.00837\n",
      "       40/1    1.57310    1.48027 +/- 0.00870\n",
      "       41/1    1.55140    1.48257 +/- 0.00872\n",
      "       42/1    1.46406    1.48199 +/- 0.00846\n",
      "       43/1    1.45928    1.48130 +/- 0.00823\n",
      "       44/1    1.51076    1.48217 +/- 0.00803\n",
      "       45/1    1.39751    1.47975 +/- 0.00816\n",
      "       46/1    1.50849    1.48054 +/- 0.00797\n",
      "       47/1    1.56077    1.48271 +/- 0.00805\n",
      "       48/1    1.48151    1.48268 +/- 0.00784\n",
      "       49/1    1.48567    1.48276 +/- 0.00764\n",
      "       50/1    1.40648    1.48085 +/- 0.00768\n",
      " Creating state point statepoint.50.h5...\n",
      "\n",
      " =======================>     TIMING STATISTICS     <=======================\n",
      "\n",
      " Total time for initialization     = 2.7067e+00 seconds\n",
      "   Reading cross sections          = 2.6800e+00 seconds\n",
      " Total time in simulation          = 2.6793e+01 seconds\n",
      "   Time in transport only          = 2.6742e+01 seconds\n",
      "   Time in inactive batches        = 3.2684e+00 seconds\n",
      "   Time in active batches          = 2.3524e+01 seconds\n",
      "   Time synchronizing fission bank = 1.1386e-02 seconds\n",
      "     Sampling source sites         = 1.0686e-02 seconds\n",
      "     SEND/RECV source sites        = 6.1828e-04 seconds\n",
      "   Time accumulating tallies       = 1.0636e-02 seconds\n",
      "   Time writing statepoints        = 5.3703e-03 seconds\n",
      " Total time for finalization       = 5.3583e-04 seconds\n",
      " Total time elapsed                = 2.9519e+01 seconds\n",
      " Calculation Rate (inactive)       = 3059.62 particles/second\n",
      " Calculation Rate (active)         = 1700.38 particles/second\n",
      "\n",
      " ============================>     RESULTS     <============================\n",
      "\n",
      " k-effective (Collision)     = 1.48189 +/- 0.00661\n",
      " k-effective (Track-length)  = 1.48085 +/- 0.00768\n",
      " k-effective (Absorption)    = 1.47265 +/- 0.00462\n",
      " Combined k-effective        = 1.47549 +/- 0.00402\n",
      " Leakage Fraction            = 0.00000 +/- 0.00000\n",
      "\n"
     ]
    },
    {
     "data": {
      "text/plain": [
       "PosixPath('/home/ooblack/projects/openmc-depletion-testing/statepoint.50.h5')"
      ]
     },
     "execution_count": 7,
     "metadata": {},
     "output_type": "execute_result"
    }
   ],
   "source": [
    "model.run()"
   ]
  },
  {
   "cell_type": "markdown",
   "id": "640818d2",
   "metadata": {},
   "source": [
    "## Get 1G XS"
   ]
  },
  {
   "cell_type": "code",
   "execution_count": 8,
   "id": "44e08278",
   "metadata": {},
   "outputs": [],
   "source": [
    "# Load the last statepoint file\n",
    "sp = openmc.StatePoint('statepoint.50.h5')\n",
    "\n",
    "\n",
    "# Load the tallies from the statepoint into each MGXS object\n",
    "fission.load_from_statepoint(sp)\n",
    "capture.load_from_statepoint(sp)\n",
    "# Close the statepoint file now that we're done getting info\n",
    "sp.close()"
   ]
  },
  {
   "cell_type": "code",
   "execution_count": 132,
   "id": "339faa7e",
   "metadata": {},
   "outputs": [],
   "source": [
    "fission_df = fission.get_pandas_dataframe(xs_type='micro')\n",
    "capture_df = capture.get_pandas_dataframe(xs_type='micro')"
   ]
  },
  {
   "cell_type": "code",
   "execution_count": 133,
   "id": "2027741a",
   "metadata": {},
   "outputs": [],
   "source": [
    "capture_df.index=capture_df['nuclide']\n",
    "fission_df.index=fission_df['nuclide']"
   ]
  },
  {
   "cell_type": "code",
   "execution_count": 135,
   "id": "9b337aed",
   "metadata": {},
   "outputs": [],
   "source": [
    "capture_df.drop(['nuclide','material','group in','std. dev.'], axis=1, inplace=True)\n",
    "fission_df.drop(['nuclide','material','group in','std. dev.'], axis=1, inplace=True)"
   ]
  },
  {
   "cell_type": "code",
   "execution_count": 137,
   "id": "ab5c0760",
   "metadata": {},
   "outputs": [],
   "source": [
    "capture_df.rename({'mean':'(n,gamma)'}, axis=1, inplace=True)\n",
    "fission_df.rename({'mean':'fission'}, axis=1, inplace=True)"
   ]
  },
  {
   "cell_type": "code",
   "execution_count": 139,
   "id": "dfa034ba",
   "metadata": {},
   "outputs": [],
   "source": [
    "micro_xs = pd.concat([capture_df,fission_df], axis=1)"
   ]
  },
  {
   "cell_type": "code",
   "execution_count": 141,
   "id": "5d7303fe",
   "metadata": {},
   "outputs": [],
   "source": [
    "micro_xs.to_csv('micro_xs_simple.csv')"
   ]
  },
  {
   "cell_type": "code",
   "execution_count": 20,
   "id": "c5ba163a",
   "metadata": {},
   "outputs": [
    {
     "data": {
      "text/plain": [
       "odict_values([Tally\n",
       "\tID             =\t8\n",
       "\tName           =\t\n",
       "\tFilters        =\tMaterialFilter, EnergyFilter\n",
       "\tNuclides       =\ttotal\n",
       "\tScores         =\t['flux']\n",
       "\tEstimator      =\ttracklength, Tally\n",
       "\tID             =\t9\n",
       "\tName           =\t\n",
       "\tFilters        =\tMaterialFilter, EnergyFilter\n",
       "\tNuclides       =\tU234 U235 U238 U236 O16 O17\n",
       "\tScores         =\t['absorption']\n",
       "\tEstimator      =\ttracklength, Tally\n",
       "\tID             =\t10\n",
       "\tName           =\t\n",
       "\tFilters        =\tMaterialFilter, EnergyFilter\n",
       "\tNuclides       =\tU234 U235 U238 U236 O16 O17\n",
       "\tScores         =\t['fission']\n",
       "\tEstimator      =\ttracklength])"
      ]
     },
     "execution_count": 20,
     "metadata": {},
     "output_type": "execute_result"
    }
   ],
   "source": [
    "capture.tallies.values()"
   ]
  },
  {
   "cell_type": "code",
   "execution_count": null,
   "id": "b26009e0",
   "metadata": {},
   "outputs": [],
   "source": [
    "micro_xs.to"
   ]
  },
  {
   "cell_type": "code",
   "execution_count": 140,
   "id": "71b13e3c",
   "metadata": {},
   "outputs": [
    {
     "data": {
      "text/plain": [
       "'nuclide,\"(n,gamma)\",fission\\nU234,23.518634203050645,0.49531930067650976\\nU235,10.621118186344665,49.10955932965905\\nU238,0.8652742788116043,0.10579281644765708\\nU236,9.095623870006154,0.32315392339237936\\nO16,0.0029535689693132015,0.0\\nO17,0.05980775766572907,0.0\\n'"
      ]
     },
     "execution_count": 140,
     "metadata": {},
     "output_type": "execute_result"
    }
   ],
   "source": [
    "micro_xs.to_csv('')"
   ]
  },
  {
   "cell_type": "code",
   "execution_count": 17,
   "id": "51eee2a0",
   "metadata": {},
   "outputs": [
    {
     "name": "stdout",
     "output_type": "stream",
     "text": [
      "Multi-Group XS\n",
      "\tReaction Type  =\tfission\n",
      "\tDomain Type    =\tmaterial\n",
      "\tDomain ID      =\t1\n",
      "\tNuclide        =\tU234\n",
      "\tCross Sections [barns]:\n",
      "            Group 1 [0.0        - 20000000.0eV]:\t4.95e-01 +/- 6.42e-01%\n",
      "\n",
      "\tNuclide        =\tU235\n",
      "\tCross Sections [barns]:\n",
      "            Group 1 [0.0        - 20000000.0eV]:\t4.91e+01 +/- 6.08e-01%\n",
      "\n",
      "\tNuclide        =\tU238\n",
      "\tCross Sections [barns]:\n",
      "            Group 1 [0.0        - 20000000.0eV]:\t1.06e-01 +/- 8.73e-01%\n",
      "\n",
      "\tNuclide        =\tU236\n",
      "\tCross Sections [barns]:\n",
      "            Group 1 [0.0        - 20000000.0eV]:\t3.23e-01 +/- 1.59e+00%\n",
      "\n",
      "\tNuclide        =\tO16\n",
      "\tCross Sections [barns]:\n",
      "            Group 1 [0.0        - 20000000.0eV]:\t0.00e+00 +/- 0.00e+00%\n",
      "\n",
      "\tNuclide        =\tO17\n",
      "\tCross Sections [barns]:\n",
      "            Group 1 [0.0        - 20000000.0eV]:\t0.00e+00 +/- 0.00e+00%\n",
      "\n",
      "\n",
      "\n"
     ]
    },
    {
     "name": "stderr",
     "output_type": "stream",
     "text": [
      "/home/ooblack/projects/openmc/openmc/tallies.py:1255: RuntimeWarning: invalid value encountered in true_divide\n",
      "  data = self.std_dev[indices] / self.mean[indices]\n"
     ]
    }
   ],
   "source": [
    "fission.print_xs(xs_type='micro')"
   ]
  },
  {
   "cell_type": "code",
   "execution_count": null,
   "id": "5badab3d",
   "metadata": {},
   "outputs": [],
   "source": []
  },
  {
   "cell_type": "code",
   "execution_count": 136,
   "id": "1b5d10b9",
   "metadata": {},
   "outputs": [
    {
     "data": {
      "text/html": [
       "<div>\n",
       "<style scoped>\n",
       "    .dataframe tbody tr th:only-of-type {\n",
       "        vertical-align: middle;\n",
       "    }\n",
       "\n",
       "    .dataframe tbody tr th {\n",
       "        vertical-align: top;\n",
       "    }\n",
       "\n",
       "    .dataframe thead th {\n",
       "        text-align: right;\n",
       "    }\n",
       "</style>\n",
       "<table border=\"1\" class=\"dataframe\">\n",
       "  <thead>\n",
       "    <tr style=\"text-align: right;\">\n",
       "      <th></th>\n",
       "      <th>mean</th>\n",
       "    </tr>\n",
       "    <tr>\n",
       "      <th>nuclide</th>\n",
       "      <th></th>\n",
       "    </tr>\n",
       "  </thead>\n",
       "  <tbody>\n",
       "    <tr>\n",
       "      <th>U234</th>\n",
       "      <td>23.518634</td>\n",
       "    </tr>\n",
       "    <tr>\n",
       "      <th>U235</th>\n",
       "      <td>10.621118</td>\n",
       "    </tr>\n",
       "    <tr>\n",
       "      <th>U238</th>\n",
       "      <td>0.865274</td>\n",
       "    </tr>\n",
       "    <tr>\n",
       "      <th>U236</th>\n",
       "      <td>9.095624</td>\n",
       "    </tr>\n",
       "    <tr>\n",
       "      <th>O16</th>\n",
       "      <td>0.002954</td>\n",
       "    </tr>\n",
       "    <tr>\n",
       "      <th>O17</th>\n",
       "      <td>0.059808</td>\n",
       "    </tr>\n",
       "  </tbody>\n",
       "</table>\n",
       "</div>"
      ],
      "text/plain": [
       "              mean\n",
       "nuclide           \n",
       "U234     23.518634\n",
       "U235     10.621118\n",
       "U238      0.865274\n",
       "U236      9.095624\n",
       "O16       0.002954\n",
       "O17       0.059808"
      ]
     },
     "execution_count": 136,
     "metadata": {},
     "output_type": "execute_result"
    }
   ],
   "source": [
    "capture_df"
   ]
  },
  {
   "cell_type": "code",
   "execution_count": null,
   "id": "daf60a87",
   "metadata": {},
   "outputs": [],
   "source": []
  }
 ],
 "metadata": {
  "kernelspec": {
   "display_name": "Python [conda env:openmc-env] *",
   "language": "python",
   "name": "conda-env-openmc-env-py"
  },
  "language_info": {
   "codemirror_mode": {
    "name": "ipython",
    "version": 3
   },
   "file_extension": ".py",
   "mimetype": "text/x-python",
   "name": "python",
   "nbconvert_exporter": "python",
   "pygments_lexer": "ipython3",
   "version": "3.10.2"
  }
 },
 "nbformat": 4,
 "nbformat_minor": 5
}
