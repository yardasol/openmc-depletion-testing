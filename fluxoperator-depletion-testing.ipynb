{
 "cells": [
  {
   "cell_type": "code",
   "execution_count": 1,
   "id": "7e9c07fd",
   "metadata": {},
   "outputs": [],
   "source": [
    "import openmc\n",
    "import openmc.deplete as od\n",
    "import math\n",
    "import pandas as pd"
   ]
  },
  {
   "cell_type": "code",
   "execution_count": 2,
   "id": "e5ee10db",
   "metadata": {},
   "outputs": [],
   "source": [
    "fuel = openmc.Material(name=\"uo2\")\n",
    "fuel.add_element(\"U\", 1, percent_type=\"ao\", enrichment=4.25)\n",
    "fuel.add_element(\"O\", 2)\n",
    "fuel.set_density(\"g/cc\", 10.4)\n",
    "\n",
    "clad = openmc.Material(name=\"clad\")\n",
    "clad.add_element(\"Zr\", 1)\n",
    "clad.set_density(\"g/cc\", 6)\n",
    "\n",
    "water = openmc.Material(name=\"water\")\n",
    "water.add_element(\"O\", 1)\n",
    "water.add_element(\"H\", 2)\n",
    "water.set_density(\"g/cc\", 1.0)\n",
    "water.add_s_alpha_beta(\"c_H_in_H2O\")\n",
    "materials = openmc.Materials([fuel])"
   ]
  },
  {
   "cell_type": "code",
   "execution_count": 3,
   "id": "d41d03ce",
   "metadata": {},
   "outputs": [],
   "source": [
    "radii = [0.42, 0.45]\n",
    "fuel.volume = math.pi * radii[0] ** 2"
   ]
  },
  {
   "cell_type": "code",
   "execution_count": 4,
   "id": "dffb606e",
   "metadata": {},
   "outputs": [],
   "source": [
    "cyl = openmc.ZCylinder(r=radii[0])\n",
    "cyl_cell = openmc.Cell(region=-cyl, fill=fuel)\n",
    "bound_box = openmc.rectangular_prism(1.24, 1.24, boundary_type=\"reflective\")\n",
    "root_cell = openmc.Cell(fill=openmc.Universe(cells=[cyl_cell]), region=bound_box)\n",
    "geometry = openmc.Geometry([root_cell])"
   ]
  },
  {
   "cell_type": "code",
   "execution_count": 5,
   "id": "a7381bf7",
   "metadata": {},
   "outputs": [],
   "source": [
    "settings = openmc.Settings()\n",
    "settings.particles = 1000\n",
    "settings.inactive = 10\n",
    "settings.batches = 50"
   ]
  },
  {
   "cell_type": "code",
   "execution_count": 6,
   "id": "72915a30",
   "metadata": {},
   "outputs": [],
   "source": [
    "model = openmc.model.Model(geometry, materials, settings)\n",
    "operator = openmc.deplete.Operator(model, \"../openmc/tests/chain_simple.xml\")"
   ]
  },
  {
   "cell_type": "code",
   "execution_count": 7,
   "id": "3eb0d659",
   "metadata": {},
   "outputs": [
    {
     "data": {
      "text/plain": [
       "array([[5.54176944e+02, 5.54176944e+02, 5.54176944e+02, 5.54176944e+02,\n",
       "        5.54176944e+02, 5.54176944e+02, 4.94459466e+18, 5.53201699e+20,\n",
       "        1.22985089e+22, 2.57086309e+22, 9.74726533e+18, 2.53392949e+18]])"
      ]
     },
     "execution_count": 7,
     "metadata": {},
     "output_type": "execute_result"
    }
   ],
   "source": [
    "operator.number.number"
   ]
  },
  {
   "cell_type": "code",
   "execution_count": 8,
   "id": "e1ccb48f",
   "metadata": {},
   "outputs": [],
   "source": [
    "nuclides = {}\n",
    "for nuc,t in fuel.get_nuclide_atom_densities().items():\n",
    "    nuclides[nuc] = t[1] * 1e24"
   ]
  },
  {
   "cell_type": "code",
   "execution_count": 9,
   "id": "a7feafa6",
   "metadata": {},
   "outputs": [
    {
     "name": "stderr",
     "output_type": "stream",
     "text": [
      "/tmp/ipykernel_18222/3961105765.py:7: FutureWarning: The frame.append method is deprecated and will be removed from pandas in a future version. Use pandas.concat instead.\n",
      "  xs_micro=xs_micro.append(pd.DataFrame(index=['I135', 'Xe135', 'Xe136', 'Cs135', 'Gd157', 'Gd156'],\n"
     ]
    }
   ],
   "source": [
    "xs_micro = pd.DataFrame(index=list(nuclides.keys()), columns=['fission', '(n,gamma)'], data=[[0.1, 0.], \n",
    "                                                                                            [0.1,0.], \n",
    "                                                                                            [0.9,0.], \n",
    "                                                                                            [0.4,0.], \n",
    "                                                                                            [0.0,0.], \n",
    "                                                                                            [0.0,0.]])\n",
    "xs_micro=xs_micro.append(pd.DataFrame(index=['I135', 'Xe135', 'Xe136', 'Cs135', 'Gd157', 'Gd156'],\n",
    "                            columns = ['fission', '(n,gamma)'],\n",
    "                            data=[[0., 0.1],\n",
    "                                  [0., 0.9],\n",
    "                                  [0.,0.],\n",
    "                                  [0.,0.],\n",
    "                                  [0.,0.1],\n",
    "                                  [0.,0.1]]))"
   ]
  },
  {
   "cell_type": "code",
   "execution_count": 10,
   "id": "f3119b51",
   "metadata": {},
   "outputs": [],
   "source": [
    "myop = od.FluxSpectraDepletionOperator(fuel.volume, nuclides, xs_micro, 1e16, '../openmc/tests/chain_simple.xml')"
   ]
  },
  {
   "cell_type": "code",
   "execution_count": 13,
   "id": "09f78b79",
   "metadata": {},
   "outputs": [
    {
     "data": {
      "text/plain": [
       "ReactionRates([[[0., 0.],\n",
       "                [0., 0.],\n",
       "                [0., 0.],\n",
       "                [0., 0.],\n",
       "                [0., 0.],\n",
       "                [0., 0.],\n",
       "                [0., 0.],\n",
       "                [0., 0.],\n",
       "                [0., 0.]]])"
      ]
     },
     "execution_count": 13,
     "metadata": {},
     "output_type": "execute_result"
    }
   ],
   "source": [
    "myop.reaction_rates"
   ]
  },
  {
   "cell_type": "code",
   "execution_count": 14,
   "id": "5f908c6a",
   "metadata": {},
   "outputs": [
    {
     "data": {
      "text/plain": [
       "ReactionRates([[[0., 0.],\n",
       "                [0., 0.],\n",
       "                [0., 0.],\n",
       "                [0., 0.],\n",
       "                [0., 0.],\n",
       "                [0., 0.],\n",
       "                [0., 0.],\n",
       "                [0., 0.],\n",
       "                [0., 0.]]])"
      ]
     },
     "execution_count": 14,
     "metadata": {},
     "output_type": "execute_result"
    }
   ],
   "source": [
    "operator.reaction_rates"
   ]
  },
  {
   "cell_type": "code",
   "execution_count": null,
   "id": "0b78e846",
   "metadata": {},
   "outputs": [],
   "source": []
  }
 ],
 "metadata": {
  "kernelspec": {
   "display_name": "Python [conda env:openmc-env] *",
   "language": "python",
   "name": "conda-env-openmc-env-py"
  },
  "language_info": {
   "codemirror_mode": {
    "name": "ipython",
    "version": 3
   },
   "file_extension": ".py",
   "mimetype": "text/x-python",
   "name": "python",
   "nbconvert_exporter": "python",
   "pygments_lexer": "ipython3",
   "version": "3.10.2"
  }
 },
 "nbformat": 4,
 "nbformat_minor": 5
}
