{
 "cells": [
  {
   "cell_type": "code",
   "execution_count": 1,
   "id": "a88c7bc8",
   "metadata": {},
   "outputs": [],
   "source": [
    "import openmc\n",
    "import openmc.deplete as od\n",
    "import math\n",
    "import pandas as pd\n",
    "import numpy as np"
   ]
  },
  {
   "cell_type": "code",
   "execution_count": 2,
   "id": "5735e838",
   "metadata": {},
   "outputs": [],
   "source": [
    "fuel = openmc.Material(name=\"uo2\")\n",
    "fuel.add_element(\"U\", 1, percent_type=\"ao\", enrichment=4.25)\n",
    "fuel.add_element(\"O\", 2)\n",
    "fuel.set_density(\"g/cc\", 10.4)\n",
    "\n",
    "clad = openmc.Material(name=\"clad\")\n",
    "clad.add_element(\"Zr\", 1)\n",
    "clad.set_density(\"g/cc\", 6)\n",
    "\n",
    "water = openmc.Material(name=\"water\")\n",
    "water.add_element(\"O\", 1)\n",
    "water.add_element(\"H\", 2)\n",
    "water.set_density(\"g/cc\", 1.0)\n",
    "water.add_s_alpha_beta(\"c_H_in_H2O\")\n",
    "materials = openmc.Materials([fuel])"
   ]
  },
  {
   "cell_type": "code",
   "execution_count": 3,
   "id": "6a65b7cb",
   "metadata": {},
   "outputs": [],
   "source": [
    "radii = [0.42, 0.45]d\n",
    "fuel.volume = math.pi * radii[0] ** 2"
   ]
  },
  {
   "cell_type": "code",
   "execution_count": 4,
   "id": "924e5edb",
   "metadata": {},
   "outputs": [],
   "source": [
    "cyl = openmc.ZCylinder(r=radii[0])\n",
    "cyl_cell = openmc.Cell(region=-cyl, fill=fuel)\n",
    "bound_box = openmc.rectangular_prism(1.24, 1.24, boundary_type=\"reflective\")\n",
    "root_cell = openmc.Cell(fill=openmc.Universe(cells=[cyl_cell]), region=bound_box)\n",
    "geometry = openmc.Geometry([root_cell])"
   ]
  },
  {
   "cell_type": "code",
   "execution_count": 5,
   "id": "69fa5d1c",
   "metadata": {},
   "outputs": [],
   "source": [
    "settings = openmc.Settings()\n",
    "settings.particles = 1000\n",
    "settings.inactive = 10\n",
    "settings.batches = 50"
   ]
  },
  {
   "cell_type": "code",
   "execution_count": 6,
   "id": "8a6fa0ef",
   "metadata": {},
   "outputs": [],
   "source": [
    "model = openmc.model.Model(geometry, materials, settings)\n",
    "operator = openmc.deplete.Operator(model, \"../openmc/tests/chain_simple.xml\")"
   ]
  },
  {
   "cell_type": "code",
   "execution_count": 13,
   "id": "97fa9911",
   "metadata": {},
   "outputs": [],
   "source": [
    "nuclides = {}\n",
    "for nuc,t in fuel.get_nuclide_atom_densities().items():\n",
    "    nuclides[nuc] = t[1] * 1e24"
   ]
  },
  {
   "cell_type": "code",
   "execution_count": 9,
   "id": "c0d255de",
   "metadata": {},
   "outputs": [],
   "source": [
    "micro_xs = od.FluxDepletionOperator.create_micro_xs_from_csv('./micro_xs_simple.csv')"
   ]
  },
  {
   "cell_type": "code",
   "execution_count": 10,
   "id": "6a22deee",
   "metadata": {},
   "outputs": [],
   "source": [
    "test_op = od.FluxDepletionOperator(fuel.volume, nuclides, micro_xs, 1164719970082145.0, '../openmc/tests/chain_simple.xml',  dilute_initial=0.0)"
   ]
  },
  {
   "cell_type": "code",
   "execution_count": 11,
   "id": "e2b88096",
   "metadata": {},
   "outputs": [],
   "source": [
    "power = 174\n",
    "time_steps = [30]\n",
    "integrator = openmc.deplete.PredictorIntegrator(test_op, time_steps, power, timestep_units='d')"
   ]
  },
  {
   "cell_type": "code",
   "execution_count": 12,
   "id": "7f4433cd",
   "metadata": {},
   "outputs": [
    {
     "name": "stdout",
     "output_type": "stream",
     "text": [
      "[openmc.deplete] t=0.0 s, dt=2592000 s, source=174\n",
      "[openmc.deplete] t=2592000.0 (final operator evaluation)\n"
     ]
    }
   ],
   "source": [
    "#import pdb\n",
    "#pdb.set_trace()\n",
    "integrator.integrate()\n",
    "\n",
    "# b /home/ooblack/projects/openmc/openmc/deplete/abc.py:795\n",
    "# b /home/ooblack/projects/openmc/openmc/deplete/stepresults.py:498\n",
    "# p conc\n",
    "# p conc list\n",
    "# c\n",
    "# p results.data\n",
    "# c\n",
    "# p results.data"
   ]
  },
  {
   "cell_type": "code",
   "execution_count": 55,
   "id": "1e256649",
   "metadata": {},
   "outputs": [],
   "source": [
    "results = openmc.deplete.Results.from_hdf5(\"./depletion_results.h5\")"
   ]
  },
  {
   "cell_type": "code",
   "execution_count": 88,
   "id": "9c11e540",
   "metadata": {},
   "outputs": [
    {
     "data": {
      "text/plain": [
       "(array([      0., 2592000.]), array([1.46355381e+19, 1.55709141e+19]))"
      ]
     },
     "execution_count": 88,
     "metadata": {},
     "output_type": "execute_result"
    }
   ],
   "source": [
    "results.get_atoms('0', 'Cs135')"
   ]
  },
  {
   "cell_type": "code",
   "execution_count": null,
   "id": "7eda9ace",
   "metadata": {
    "scrolled": true
   },
   "outputs": [
    {
     "name": "stdout",
     "output_type": "stream",
     "text": [
      "--Return--\n",
      "None\n",
      "> \u001b[0;32m/tmp/ipykernel_27211/767852825.py\u001b[0m(1)\u001b[0;36m<module>\u001b[0;34m()\u001b[0m\n",
      "\u001b[0;32m----> 1 \u001b[0;31m\u001b[0mpdb\u001b[0m\u001b[0;34m.\u001b[0m\u001b[0mset_trace\u001b[0m\u001b[0;34m(\u001b[0m\u001b[0;34m)\u001b[0m\u001b[0;34m\u001b[0m\u001b[0;34m\u001b[0m\u001b[0m\n",
      "\u001b[0m\u001b[0;32m      2 \u001b[0;31m\u001b[0mresults\u001b[0m\u001b[0;34m.\u001b[0m\u001b[0mexport_to_materials\u001b[0m\u001b[0;34m(\u001b[0m\u001b[0;36m0\u001b[0m\u001b[0;34m,\u001b[0m \u001b[0mnuc_with_data\u001b[0m\u001b[0;34m=\u001b[0m\u001b[0mtest_op\u001b[0m\u001b[0;34m.\u001b[0m\u001b[0m_all_nuclides\u001b[0m\u001b[0;34m)\u001b[0m\u001b[0;34m\u001b[0m\u001b[0;34m\u001b[0m\u001b[0m\n",
      "\u001b[0m\n",
      "ipdb> b /home/ooblack/projects/openmc/openmc/deplete/results.py:398\n",
      "Breakpoint 4 at /home/ooblack/projects/openmc/openmc/deplete/results.py:398\n",
      "ipdb> c\n",
      "\u001b[0;31m    [... skipped 1 hidden frame]\u001b[0m\n",
      "\n",
      "\u001b[0;31m    [... skipped 1 hidden frame]\u001b[0m\n",
      "\n",
      "\u001b[0;31m    [... skipped 1 hidden frame]\u001b[0m\n",
      "\n",
      "\u001b[0;31m    [... skipped 1 hidden frame]\u001b[0m\n",
      "\n",
      "> \u001b[0;32m/home/ooblack/projects/openmc/openmc/deplete/results.py\u001b[0m(398)\u001b[0;36mexport_to_materials\u001b[0;34m()\u001b[0m\n",
      "\u001b[0;32m    396 \u001b[0;31m        \u001b[0;31m# Overwrite material definitions, if they can be found in the depletion\u001b[0m\u001b[0;34m\u001b[0m\u001b[0;34m\u001b[0m\u001b[0m\n",
      "\u001b[0m\u001b[0;32m    397 \u001b[0;31m        \u001b[0;31m# results, and save them to the new depleted xml file.\u001b[0m\u001b[0;34m\u001b[0m\u001b[0;34m\u001b[0m\u001b[0m\n",
      "\u001b[0m\u001b[1;31m4\u001b[0;32m-> 398 \u001b[0;31m        \u001b[0;32mfor\u001b[0m \u001b[0mmat\u001b[0m \u001b[0;32min\u001b[0m \u001b[0mmat_file\u001b[0m\u001b[0;34m:\u001b[0m\u001b[0;34m\u001b[0m\u001b[0;34m\u001b[0m\u001b[0m\n",
      "\u001b[0m\u001b[0;32m    399 \u001b[0;31m            \u001b[0mmat_id\u001b[0m \u001b[0;34m=\u001b[0m \u001b[0mstr\u001b[0m\u001b[0;34m(\u001b[0m\u001b[0mmat\u001b[0m\u001b[0;34m.\u001b[0m\u001b[0mid\u001b[0m\u001b[0;34m)\u001b[0m\u001b[0;34m\u001b[0m\u001b[0;34m\u001b[0m\u001b[0m\n",
      "\u001b[0m\u001b[0;32m    400 \u001b[0;31m            \u001b[0;32mif\u001b[0m \u001b[0mmat_id\u001b[0m \u001b[0;32min\u001b[0m \u001b[0mresult\u001b[0m\u001b[0;34m.\u001b[0m\u001b[0mmat_to_ind\u001b[0m\u001b[0;34m:\u001b[0m\u001b[0;34m\u001b[0m\u001b[0;34m\u001b[0m\u001b[0m\n",
      "\u001b[0m\n",
      "ipdb> p mat\n",
      "*** NameError: name 'mat' is not defined\n",
      "ipdb> p mat_file\n",
      "[Material\n",
      "\tID             =\t1\n",
      "\tName           =\tuo2\n",
      "\tTemperature    =\tNone\n",
      "\tDensity        =\t10.4 [g/cc]\n",
      "\tS(a,b) Tables  \n",
      "\tNuclides       \n",
      "\tU234           =\t0.0003845183882296898 [ao]\n",
      "\tU235           =\t0.04301995213827323 [ao]\n",
      "\tU238           =\t0.9563984774295304 [ao]\n",
      "\tO16            =\t1.999242     [ao]\n",
      "\tO17            =\t0.000758     [ao]\n",
      "\tU236           =\t0.000197052043966672 [ao]\n",
      ", Material\n",
      "\tID             =\t2\n",
      "\tName           =\tclad\n",
      "\tTemperature    =\tNone\n",
      "\tDensity        =\t6.0 [g/cc]\n",
      "\tS(a,b) Tables  \n",
      "\tNuclides       \n",
      "\tZr90           =\t0.5145       [ao]\n",
      "\tZr91           =\t0.1122       [ao]\n",
      "\tZr92           =\t0.1715       [ao]\n",
      "\tZr94           =\t0.1738       [ao]\n",
      "\tZr96           =\t0.028        [ao]\n",
      ", Material\n",
      "\tID             =\t3\n",
      "\tName           =\twater\n",
      "\tTemperature    =\tNone\n",
      "\tDensity        =\t1.0 [g/cc]\n",
      "\tS(a,b) Tables  \n",
      "\tS(a,b)         =\t('c_H_in_H2O', 1.0)\n",
      "\tNuclides       \n",
      "\tH1             =\t1.99968852   [ao]\n",
      "\tH2             =\t0.00031148   [ao]\n",
      "\tO16            =\t0.999621     [ao]\n",
      "\tO17            =\t0.000379     [ao]\n",
      "]\n",
      "ipdb> p result.volume\n",
      "OrderedDict([('0', 0.5541769440932395)])\n",
      "ipdb> p result.volume[1]\n",
      "*** KeyError: 1\n",
      "ipdb> result.mat_to_ind\n",
      "OrderedDict([('0', 0)])\n"
     ]
    }
   ],
   "source": [
    "pdb.set_trace()\n",
    "results.export_to_materials(0, nuc_with_data=test_op._all_nuclides)"
   ]
  },
  {
   "cell_type": "code",
   "execution_count": 90,
   "id": "156283c3",
   "metadata": {},
   "outputs": [
    {
     "data": {
      "text/plain": [
       "1.46355381175615e+19"
      ]
     },
     "execution_count": 90,
     "metadata": {},
     "output_type": "execute_result"
    }
   ],
   "source": [
    "results[0][0,'0','Cs135']"
   ]
  },
  {
   "cell_type": "code",
   "execution_count": 45,
   "id": "7d8ce386",
   "metadata": {},
   "outputs": [
    {
     "data": {
      "text/plain": [
       "4.5724195495061115e+18"
      ]
     },
     "execution_count": 45,
     "metadata": {},
     "output_type": "execute_result"
    }
   ],
   "source": [
    "fuel.get_nuclide_atom_densities()['U236'][1]*1e24"
   ]
  },
  {
   "cell_type": "code",
   "execution_count": 51,
   "id": "2283c81d",
   "metadata": {},
   "outputs": [
    {
     "ename": "AttributeError",
     "evalue": "'Results' object has no attribute 'data'",
     "output_type": "error",
     "traceback": [
      "\u001b[0;31m---------------------------------------------------------------------------\u001b[0m",
      "\u001b[0;31mAttributeError\u001b[0m                            Traceback (most recent call last)",
      "Input \u001b[0;32mIn [51]\u001b[0m, in \u001b[0;36m<module>\u001b[0;34m\u001b[0m\n\u001b[0;32m----> 1\u001b[0m \u001b[43mresults\u001b[49m\u001b[38;5;241;43m.\u001b[39;49m\u001b[43mdata\u001b[49m\n",
      "\u001b[0;31mAttributeError\u001b[0m: 'Results' object has no attribute 'data'"
     ]
    }
   ],
   "source": [
    "results.data"
   ]
  },
  {
   "cell_type": "code",
   "execution_count": 91,
   "id": "d9be9e5a",
   "metadata": {},
   "outputs": [
    {
     "data": {
      "text/plain": [
       "['I135',\n",
       " 'Xe135',\n",
       " 'Xe136',\n",
       " 'Cs135',\n",
       " 'Gd157',\n",
       " 'Gd156',\n",
       " 'U234',\n",
       " 'U235',\n",
       " 'U238',\n",
       " 'O16',\n",
       " 'O17',\n",
       " 'U236']"
      ]
     },
     "execution_count": 91,
     "metadata": {},
     "output_type": "execute_result"
    }
   ],
   "source": [
    "test_op._all_nuclides"
   ]
  },
  {
   "cell_type": "code",
   "execution_count": null,
   "id": "6a11fbab",
   "metadata": {},
   "outputs": [],
   "source": []
  }
 ],
 "metadata": {
  "kernelspec": {
   "display_name": "Python [conda env:openmc-env] *",
   "language": "python",
   "name": "conda-env-openmc-env-py"
  },
  "language_info": {
   "codemirror_mode": {
    "name": "ipython",
    "version": 3
   },
   "file_extension": ".py",
   "mimetype": "text/x-python",
   "name": "python",
   "nbconvert_exporter": "python",
   "pygments_lexer": "ipython3",
   "version": "3.10.2"
  }
 },
 "nbformat": 4,
 "nbformat_minor": 5
}
