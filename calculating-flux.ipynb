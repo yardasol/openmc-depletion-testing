{
 "cells": [
  {
   "cell_type": "code",
   "execution_count": 10,
   "id": "0507c0ca",
   "metadata": {},
   "outputs": [],
   "source": [
    "import openmc\n",
    "import openmc.deplete as od\n",
    "import math\n",
    "import pandas as pd\n",
    "import numpy as np\n",
    "import openmc.mgxs as mgxs"
   ]
  },
  {
   "cell_type": "code",
   "execution_count": 11,
   "id": "fedf8bcd",
   "metadata": {},
   "outputs": [],
   "source": [
    "fuel = openmc.Material(name=\"uo2\")\n",
    "fuel.add_element(\"U\", 1, percent_type=\"ao\", enrichment=4.25)\n",
    "fuel.add_element(\"O\", 2)\n",
    "fuel.set_density(\"g/cc\", 10.4)\n",
    "\n",
    "clad = openmc.Material(name=\"clad\")\n",
    "clad.add_element(\"Zr\", 1)\n",
    "clad.set_density(\"g/cc\", 6)\n",
    "\n",
    "water = openmc.Material(name=\"water\")\n",
    "water.add_element(\"O\", 1)\n",
    "water.add_element(\"H\", 2)\n",
    "water.set_density(\"g/cc\", 1.0)\n",
    "water.add_s_alpha_beta(\"c_H_in_H2O\")\n",
    "\n",
    "radii = [0.42, 0.45]\n",
    "fuel.volume = math.pi * radii[0] ** 2\n",
    "\n",
    "materials = openmc.Materials([fuel, clad, water])"
   ]
  },
  {
   "cell_type": "code",
   "execution_count": 12,
   "id": "99e92b5f",
   "metadata": {},
   "outputs": [
    {
     "data": {
      "text/plain": [
       "OrderedDict([('U234', ('U234', 8.922411359424316e-06)),\n",
       "             ('U235', ('U235', 0.000998240191860822)),\n",
       "             ('U238', ('U238', 0.022192386373095892)),\n",
       "             ('U236', ('U236', 4.572419549506112e-06)),\n",
       "             ('O16', ('O16', 0.04639065406771322)),\n",
       "             ('O17', ('O17', 1.7588724018066158e-05))])"
      ]
     },
     "execution_count": 12,
     "metadata": {},
     "output_type": "execute_result"
    }
   ],
   "source": [
    "fuel.get_nuclide_atom_densities()"
   ]
  },
  {
   "cell_type": "code",
   "execution_count": 13,
   "id": "38658f46",
   "metadata": {},
   "outputs": [],
   "source": [
    "pin_surfaces = [openmc.ZCylinder(r=r) for r in radii]\n",
    "pin_univ = openmc.model.pin(pin_surfaces, materials)\n",
    "bound_box = openmc.rectangular_prism(1.24, 1.24, boundary_type=\"reflective\")\n",
    "root_cell = openmc.Cell(fill=pin_univ, region=bound_box)\n",
    "geometry = openmc.Geometry([root_cell])"
   ]
  },
  {
   "cell_type": "code",
   "execution_count": 14,
   "id": "d40b10a2",
   "metadata": {},
   "outputs": [],
   "source": [
    "settings = openmc.Settings()\n",
    "settings.particles = 1000\n",
    "settings.inactive = 10\n",
    "settings.batches = 50\n",
    "settings.photon_transport = True"
   ]
  },
  {
   "cell_type": "code",
   "execution_count": 15,
   "id": "37755901",
   "metadata": {},
   "outputs": [],
   "source": [
    "#groups = mgxs.EnergyGroups()\n",
    "#groups.group_edges = np.array([0.,20.0e6])\n",
    "#fission = mgxs.FissionXS(domain=fuel, groups=groups, by_nuclide=True)\n",
    "#capture = mgxs.CaptureXS(domain=fuel, groups=groups,by_nuclide=True)\n",
    "\n",
    "tally = openmc.Tally()\n",
    "tally.scores = ['flux', 'heating']\n",
    "\n",
    "tallies = openmc.Tallies()\n",
    "tallies.append(tally)"
   ]
  },
  {
   "cell_type": "code",
   "execution_count": 16,
   "id": "3d0c4226",
   "metadata": {},
   "outputs": [],
   "source": [
    "model = openmc.model.Model(geometry, materials, settings, tallies)"
   ]
  },
  {
   "cell_type": "code",
   "execution_count": 17,
   "id": "c95e5735",
   "metadata": {},
   "outputs": [
    {
     "name": "stdout",
     "output_type": "stream",
     "text": [
      "                                %%%%%%%%%%%%%%%\n",
      "                           %%%%%%%%%%%%%%%%%%%%%%%%\n",
      "                        %%%%%%%%%%%%%%%%%%%%%%%%%%%%%%\n",
      "                      %%%%%%%%%%%%%%%%%%%%%%%%%%%%%%%%%%\n",
      "                    %%%%%%%%%%%%%%%%%%%%%%%%%%%%%%%%%%%%%%\n",
      "                   %%%%%%%%%%%%%%%%%%%%%%%%%%%%%%%%%%%%%%%%\n",
      "                                    %%%%%%%%%%%%%%%%%%%%%%%%\n",
      "                                     %%%%%%%%%%%%%%%%%%%%%%%%\n",
      "                 ###############      %%%%%%%%%%%%%%%%%%%%%%%%\n",
      "                ##################     %%%%%%%%%%%%%%%%%%%%%%%\n",
      "                ###################     %%%%%%%%%%%%%%%%%%%%%%%\n",
      "                ####################     %%%%%%%%%%%%%%%%%%%%%%\n",
      "                #####################     %%%%%%%%%%%%%%%%%%%%%\n",
      "                ######################     %%%%%%%%%%%%%%%%%%%%\n",
      "                #######################     %%%%%%%%%%%%%%%%%%\n",
      "                 #######################     %%%%%%%%%%%%%%%%%\n",
      "                 ######################     %%%%%%%%%%%%%%%%%\n",
      "                  ####################     %%%%%%%%%%%%%%%%%\n",
      "                    #################     %%%%%%%%%%%%%%%%%\n",
      "                     ###############     %%%%%%%%%%%%%%%%\n",
      "                       ############     %%%%%%%%%%%%%%%\n",
      "                          ########     %%%%%%%%%%%%%%\n",
      "                                      %%%%%%%%%%%\n",
      "\n",
      "                 | The OpenMC Monte Carlo Code\n",
      "       Copyright | 2011-2022 MIT, UChicago Argonne LLC, and contributors\n",
      "         License | https://docs.openmc.org/en/latest/license.html\n",
      "         Version | 0.13.1-dev\n",
      "        Git SHA1 | 5c0a4893bd69bb213876868a61560a0004be8fed\n",
      "       Date/Time | 2022-07-06 16:44:12\n",
      "  OpenMP Threads | 4\n",
      "\n",
      " Reading settings XML file...\n",
      " Reading cross sections XML file...\n",
      " Reading materials XML file...\n",
      " Reading geometry XML file...\n",
      " Reading U234 from /home/ooblack/nndc_hdf5/U234.h5\n",
      " Reading U from /home/ooblack/nndc_hdf5/photon/U.h5 \n",
      " Reading U235 from /home/ooblack/nndc_hdf5/U235.h5\n",
      " Reading U238 from /home/ooblack/nndc_hdf5/U238.h5\n",
      " Reading U236 from /home/ooblack/nndc_hdf5/U236.h5\n",
      " Reading O16 from /home/ooblack/nndc_hdf5/O16.h5\n",
      " Reading O from /home/ooblack/nndc_hdf5/photon/O.h5 \n",
      " Reading O17 from /home/ooblack/nndc_hdf5/O17.h5\n",
      " Reading Zr90 from /home/ooblack/nndc_hdf5/Zr90.h5\n",
      " Reading Zr from /home/ooblack/nndc_hdf5/photon/Zr.h5 \n",
      " Reading Zr91 from /home/ooblack/nndc_hdf5/Zr91.h5\n",
      " Reading Zr92 from /home/ooblack/nndc_hdf5/Zr92.h5\n",
      " Reading Zr94 from /home/ooblack/nndc_hdf5/Zr94.h5\n",
      " Reading Zr96 from /home/ooblack/nndc_hdf5/Zr96.h5\n",
      " Reading H1 from /home/ooblack/nndc_hdf5/H1.h5\n",
      " Reading H from /home/ooblack/nndc_hdf5/photon/H.h5 \n",
      " Reading H2 from /home/ooblack/nndc_hdf5/H2.h5\n",
      " Reading c_H_in_H2O from /home/ooblack/nndc_hdf5/c_H_in_H2O.h5\n",
      " Minimum neutron data temperature: 294 K\n",
      " Maximum neutron data temperature: 294 K\n",
      " Reading tallies XML file...\n",
      " WARNING: Particle filter is not used with photon transport on and flux score.\n",
      " Preparing distributed cell instances...\n",
      " Reading plot XML file...\n",
      " Writing summary.h5 file...\n",
      " Maximum neutron transport energy: 20000000 eV for U235\n",
      " Initializing source particles...\n",
      "\n",
      " ====================>     K EIGENVALUE SIMULATION     <====================\n",
      "\n",
      "  Bat./Gen.      k            Average k\n",
      "  =========   ========   ====================\n",
      "        1/1    1.43450\n",
      "        2/1    1.45799\n",
      "        3/1    1.57362\n",
      "        4/1    1.45473\n",
      "        5/1    1.51367\n",
      "        6/1    1.49073\n",
      "        7/1    1.50110\n",
      "        8/1    1.50695\n",
      "        9/1    1.44564\n",
      "       10/1    1.39144\n",
      "       11/1    1.44216\n",
      "       12/1    1.47012    1.45614 +/- 0.01398\n",
      "       13/1    1.55222    1.48817 +/- 0.03303\n",
      "       14/1    1.45607    1.48014 +/- 0.02470\n",
      "       15/1    1.42396    1.46890 +/- 0.02218\n",
      "       16/1    1.46775    1.46871 +/- 0.01811\n",
      "       17/1    1.49334    1.47223 +/- 0.01571\n",
      "       18/1    1.50056    1.47577 +/- 0.01406\n",
      "       19/1    1.50828    1.47938 +/- 0.01291\n",
      "       20/1    1.48829    1.48027 +/- 0.01158\n",
      "       21/1    1.50141    1.48220 +/- 0.01065\n",
      "       22/1    1.44436    1.47904 +/- 0.01022\n",
      "       23/1    1.39408    1.47251 +/- 0.01145\n",
      "       24/1    1.43237    1.46964 +/- 0.01098\n",
      "       25/1    1.50433    1.47195 +/- 0.01048\n",
      "       26/1    1.38724    1.46666 +/- 0.01114\n",
      "       27/1    1.57754    1.47318 +/- 0.01233\n",
      "       28/1    1.37794    1.46789 +/- 0.01278\n",
      "       29/1    1.50979    1.47009 +/- 0.01228\n",
      "       30/1    1.48723    1.47095 +/- 0.01169\n",
      "       31/1    1.53962    1.47422 +/- 0.01159\n",
      "       32/1    1.42078    1.47179 +/- 0.01131\n",
      "       33/1    1.36082    1.46697 +/- 0.01184\n",
      "       34/1    1.57853    1.47162 +/- 0.01225\n",
      "       35/1    1.40110    1.46879 +/- 0.01208\n",
      "       36/1    1.48557    1.46944 +/- 0.01163\n",
      "       37/1    1.41450    1.46741 +/- 0.01137\n",
      "       38/1    1.43044    1.46608 +/- 0.01104\n",
      "       39/1    1.46245    1.46596 +/- 0.01065\n",
      "       40/1    1.40775    1.46402 +/- 0.01047\n",
      "       41/1    1.45882    1.46385 +/- 0.01013\n",
      "       42/1    1.42972    1.46278 +/- 0.00986\n",
      "       43/1    1.45502    1.46255 +/- 0.00956\n",
      "       44/1    1.48475    1.46320 +/- 0.00930\n",
      "       45/1    1.42341    1.46207 +/- 0.00910\n",
      "       46/1    1.45099    1.46176 +/- 0.00885\n",
      "       47/1    1.52302    1.46341 +/- 0.00877\n",
      "       48/1    1.40819    1.46196 +/- 0.00866\n",
      "       49/1    1.41367    1.46072 +/- 0.00852\n",
      "       50/1    1.47868    1.46117 +/- 0.00832\n",
      " Creating state point statepoint.50.h5...\n",
      "\n",
      " =======================>     TIMING STATISTICS     <=======================\n",
      "\n",
      " Total time for initialization     = 3.1002e+00 seconds\n",
      "   Reading cross sections          = 3.0648e+00 seconds\n",
      " Total time in simulation          = 1.3951e+02 seconds\n",
      "   Time in transport only          = 1.3944e+02 seconds\n",
      "   Time in inactive batches        = 2.0501e+01 seconds\n",
      "   Time in active batches          = 1.1900e+02 seconds\n",
      "   Time synchronizing fission bank = 1.1346e-02 seconds\n",
      "     Sampling source sites         = 1.0599e-02 seconds\n",
      "     SEND/RECV source sites        = 6.0494e-04 seconds\n",
      "   Time accumulating tallies       = 3.7323e-02 seconds\n",
      "   Time writing statepoints        = 3.2496e-03 seconds\n",
      " Total time for finalization       = 2.1081e-04 seconds\n",
      " Total time elapsed                = 1.4263e+02 seconds\n",
      " Calculation Rate (inactive)       = 487.772 particles/second\n",
      " Calculation Rate (active)         = 336.121 particles/second\n",
      "\n",
      " ============================>     RESULTS     <============================\n",
      "\n",
      " k-effective (Collision)     = 1.46486 +/- 0.00601\n",
      " k-effective (Track-length)  = 1.46117 +/- 0.00832\n",
      " k-effective (Absorption)    = 1.46381 +/- 0.00425\n",
      " Combined k-effective        = 1.46362 +/- 0.00384\n",
      " Leakage Fraction            = 0.00000 +/- 0.00000\n",
      "\n"
     ]
    },
    {
     "data": {
      "text/plain": [
       "PosixPath('/home/ooblack/projects/openmc-depletion-testing/statepoint.50.h5')"
      ]
     },
     "execution_count": 17,
     "metadata": {},
     "output_type": "execute_result"
    }
   ],
   "source": [
    "model.run()"
   ]
  },
  {
   "cell_type": "code",
   "execution_count": 37,
   "id": "cc53e365",
   "metadata": {},
   "outputs": [],
   "source": [
    "#operator = openmc.deplete.Operator(model, \"../openmc/tests/chain_simple.xml\", normalization_mode='fission-q')\n",
    "power = 174\n",
    "#time_steps = [30]\n",
    "#integrator = openmc.deplete.PredictorIntegrator(operator, time_steps, power, timestep_units='d')"
   ]
  },
  {
   "cell_type": "markdown",
   "id": "640818d2",
   "metadata": {},
   "source": [
    "## Get Flux"
   ]
  },
  {
   "cell_type": "code",
   "execution_count": 18,
   "id": "44e08278",
   "metadata": {},
   "outputs": [],
   "source": [
    "# Load the last statepoint file\n",
    "sp = openmc.StatePoint('statepoint.50.h5')\n",
    "\n",
    "tally = sp.get_tally(scores=['flux', 'heating'])\n",
    "\n",
    "# Close the statepoint file now that we're done getting info\n",
    "sp.close()"
   ]
  },
  {
   "cell_type": "code",
   "execution_count": 26,
   "id": "bc9aee68",
   "metadata": {},
   "outputs": [],
   "source": [
    "flux = flux_tally.get_slice(scores=['flux'])\n",
    "heating = flux_tally.get_slice(scores=['heating'])"
   ]
  },
  {
   "cell_type": "code",
   "execution_count": 38,
   "id": "58f0ef5c",
   "metadata": {},
   "outputs": [],
   "source": [
    "heating_rate = 1.602e-19 * heating.mean.flatten()[0]\n",
    "normalization_factor = power / heating_rate"
   ]
  },
  {
   "cell_type": "code",
   "execution_count": 43,
   "id": "d70e3ff8",
   "metadata": {},
   "outputs": [],
   "source": [
    "real_flux = flux.mean.flatten()[0] * normalization_factor / (math.pi * radii[1] ** 2)"
   ]
  },
  {
   "cell_type": "code",
   "execution_count": 44,
   "id": "203b6360",
   "metadata": {},
   "outputs": [
    {
     "data": {
      "text/plain": [
       "1164719970082145.0"
      ]
     },
     "execution_count": 44,
     "metadata": {},
     "output_type": "execute_result"
    }
   ],
   "source": [
    "real_flux"
   ]
  },
  {
   "cell_type": "code",
   "execution_count": null,
   "id": "836aa5b6",
   "metadata": {},
   "outputs": [],
   "source": []
  }
 ],
 "metadata": {
  "kernelspec": {
   "display_name": "Python [conda env:openmc-env] *",
   "language": "python",
   "name": "conda-env-openmc-env-py"
  },
  "language_info": {
   "codemirror_mode": {
    "name": "ipython",
    "version": 3
   },
   "file_extension": ".py",
   "mimetype": "text/x-python",
   "name": "python",
   "nbconvert_exporter": "python",
   "pygments_lexer": "ipython3",
   "version": "3.10.2"
  }
 },
 "nbformat": 4,
 "nbformat_minor": 5
}
